{
 "cells": [
  {
   "cell_type": "code",
   "execution_count": null,
   "id": "c3f2091b",
   "metadata": {},
   "outputs": [
    {
     "name": "stderr",
     "output_type": "stream",
     "text": [
      "  0%|          | 1/11041 [00:09<28:05:11,  9.16s/it]"
     ]
    },
    {
     "name": "stdout",
     "output_type": "stream",
     "text": [
      "⚠️ Error: type NAType doesn't define __round__ method\n"
     ]
    },
    {
     "name": "stderr",
     "output_type": "stream",
     "text": [
      "  0%|          | 20/11041 [00:09<1:02:45,  2.93it/s]"
     ]
    },
    {
     "name": "stdout",
     "output_type": "stream",
     "text": [
      "⚠️ Error: type NAType doesn't define __round__ method\n"
     ]
    },
    {
     "name": "stderr",
     "output_type": "stream",
     "text": [
      "  0%|          | 39/11041 [00:10<33:49,  5.42it/s]  "
     ]
    },
    {
     "name": "stdout",
     "output_type": "stream",
     "text": [
      "⚠️ Error: type NAType doesn't define __round__ method\n"
     ]
    },
    {
     "name": "stderr",
     "output_type": "stream",
     "text": [
      "  1%|          | 59/11041 [00:11<19:05,  9.58it/s]"
     ]
    },
    {
     "name": "stdout",
     "output_type": "stream",
     "text": [
      "⚠️ Error: type NAType doesn't define __round__ method\n"
     ]
    },
    {
     "name": "stderr",
     "output_type": "stream",
     "text": [
      "Warning: Cannot load daily/2009/LELL0.csv.gz from https://data.meteostat.net/\n",
      "Warning: Cannot load daily/2009/08180.csv.gz from https://data.meteostat.net/\n",
      "  1%|          | 79/11041 [00:11<13:21, 13.68it/s]Warning: Cannot load daily/2009/07695.csv.gz from https://data.meteostat.net/\n",
      "Warning: Cannot load daily/2009/07688.csv.gz from https://data.meteostat.net/\n",
      "  1%|          | 95/11041 [00:12<12:02, 15.15it/s]Warning: Cannot load daily/2009/LTBX0.csv.gz from https://data.meteostat.net/\n",
      "Warning: Cannot load daily/2009/17062.csv.gz from https://data.meteostat.net/\n",
      "Warning: Cannot load daily/2009/LTBP0.csv.gz from https://data.meteostat.net/\n",
      "  1%|          | 115/11041 [00:13<10:50, 16.80it/s]"
     ]
    },
    {
     "name": "stdout",
     "output_type": "stream",
     "text": [
      "⚠️ Error: type NAType doesn't define __round__ method\n"
     ]
    },
    {
     "name": "stderr",
     "output_type": "stream",
     "text": [
      "Warning: Cannot load daily/2009/EGTC0.csv.gz from https://data.meteostat.net/\n",
      "Warning: Cannot load daily/2009/EGTK0.csv.gz from https://data.meteostat.net/\n",
      "  1%|▏         | 155/11041 [00:14<08:56, 20.30it/s]Warning: Cannot load daily/2009/12840.csv.gz from https://data.meteostat.net/\n",
      "Warning: Cannot load daily/2009/12838.csv.gz from https://data.meteostat.net/\n",
      "  2%|▏         | 214/11041 [00:17<08:16, 21.83it/s]Warning: Cannot load daily/2009/16081.csv.gz from https://data.meteostat.net/\n",
      "  2%|▏         | 230/11041 [00:18<08:03, 22.38it/s]"
     ]
    },
    {
     "name": "stdout",
     "output_type": "stream",
     "text": [
      "⚠️ Error: type NAType doesn't define __round__ method\n"
     ]
    },
    {
     "name": "stderr",
     "output_type": "stream",
     "text": [
      "Warning: Cannot load daily/2009/48694.csv.gz from https://data.meteostat.net/\n",
      "Warning: Cannot load daily/2009/48692.csv.gz from https://data.meteostat.net/\n",
      "  2%|▏         | 249/11041 [00:19<08:28, 21.22it/s]"
     ]
    },
    {
     "name": "stdout",
     "output_type": "stream",
     "text": [
      "⚠️ Error: type NAType doesn't define __round__ method\n"
     ]
    },
    {
     "name": "stderr",
     "output_type": "stream",
     "text": [
      "  2%|▏         | 269/11041 [00:19<08:01, 22.39it/s]"
     ]
    },
    {
     "name": "stdout",
     "output_type": "stream",
     "text": [
      "⚠️ Error: type NAType doesn't define __round__ method\n"
     ]
    },
    {
     "name": "stderr",
     "output_type": "stream",
     "text": [
      "Warning: Cannot load daily/2009/83781.csv.gz from https://data.meteostat.net/\n",
      "Warning: Cannot load daily/2009/86910.csv.gz from https://data.meteostat.net/\n",
      "Warning: Cannot load daily/2009/83779.csv.gz from https://data.meteostat.net/\n",
      "  3%|▎         | 288/11041 [00:20<08:37, 20.77it/s]"
     ]
    },
    {
     "name": "stdout",
     "output_type": "stream",
     "text": [
      "⚠️ Error: type NAType doesn't define __round__ method\n"
     ]
    },
    {
     "name": "stderr",
     "output_type": "stream",
     "text": [
      "Warning: Cannot load daily/2009/69810.csv.gz from https://data.meteostat.net/\n",
      "  3%|▎         | 305/11041 [00:22<09:20, 19.16it/s]"
     ]
    },
    {
     "name": "stdout",
     "output_type": "stream",
     "text": [
      "⚠️ Error: type NAType doesn't define __round__ method\n"
     ]
    },
    {
     "name": "stderr",
     "output_type": "stream",
     "text": [
      "  3%|▎         | 325/11041 [00:23<09:20, 19.12it/s]"
     ]
    },
    {
     "name": "stdout",
     "output_type": "stream",
     "text": [
      "⚠️ Error: type NAType doesn't define __round__ method\n"
     ]
    },
    {
     "name": "stderr",
     "output_type": "stream",
     "text": [
      "  3%|▎         | 342/11041 [00:23<07:31, 23.68it/s]"
     ]
    },
    {
     "name": "stdout",
     "output_type": "stream",
     "text": [
      "⚠️ Error: type NAType doesn't define __round__ method\n"
     ]
    },
    {
     "name": "stderr",
     "output_type": "stream",
     "text": [
      "  3%|▎         | 363/11041 [00:23<05:50, 30.50it/s]"
     ]
    },
    {
     "name": "stdout",
     "output_type": "stream",
     "text": [
      "⚠️ Error: type NAType doesn't define __round__ method\n"
     ]
    },
    {
     "name": "stderr",
     "output_type": "stream",
     "text": [
      "Warning: Cannot load daily/2008/LELL0.csv.gz from https://data.meteostat.net/\n",
      "Warning: Cannot load daily/2008/08180.csv.gz from https://data.meteostat.net/\n",
      "  3%|▎         | 384/11041 [00:24<05:25, 32.73it/s]Warning: Cannot load daily/2008/LTBX0.csv.gz from https://data.meteostat.net/\n",
      "Warning: Cannot load daily/2008/17062.csv.gz from https://data.meteostat.net/\n",
      "Warning: Cannot load daily/2008/LTBP0.csv.gz from https://data.meteostat.net/\n",
      "  4%|▎         | 404/11041 [00:25<06:25, 27.59it/s]"
     ]
    },
    {
     "name": "stdout",
     "output_type": "stream",
     "text": [
      "⚠️ Error: type NAType doesn't define __round__ method\n"
     ]
    },
    {
     "name": "stderr",
     "output_type": "stream",
     "text": [
      "Warning: Cannot load daily/2008/07695.csv.gz from https://data.meteostat.net/\n",
      "Warning: Cannot load daily/2008/07688.csv.gz from https://data.meteostat.net/\n",
      "  4%|▍         | 463/11041 [00:27<06:06, 28.90it/s]Warning: Cannot load daily/2008/EGTC0.csv.gz from https://data.meteostat.net/\n",
      "Warning: Cannot load daily/2008/EGTK0.csv.gz from https://data.meteostat.net/\n",
      "  4%|▍         | 483/11041 [00:27<05:37, 31.25it/s]Warning: Cannot load daily/2008/10730.csv.gz from https://data.meteostat.net/\n",
      "  5%|▍         | 501/11041 [00:29<07:07, 24.64it/s]Warning: Cannot load daily/2008/12840.csv.gz from https://data.meteostat.net/\n",
      "Warning: Cannot load daily/2008/12838.csv.gz from https://data.meteostat.net/\n",
      "  5%|▌         | 560/11041 [00:31<07:40, 22.76it/s]Warning: Cannot load daily/2008/16081.csv.gz from https://data.meteostat.net/\n",
      "  5%|▌         | 580/11041 [00:32<07:23, 23.61it/s]"
     ]
    },
    {
     "name": "stdout",
     "output_type": "stream",
     "text": [
      "⚠️ Error: type NAType doesn't define __round__ method\n"
     ]
    },
    {
     "name": "stderr",
     "output_type": "stream",
     "text": [
      "Warning: Cannot load daily/2008/48694.csv.gz from https://data.meteostat.net/\n",
      "Warning: Cannot load daily/2008/48692.csv.gz from https://data.meteostat.net/\n",
      "  5%|▌         | 600/11041 [00:33<07:48, 22.31it/s]"
     ]
    },
    {
     "name": "stdout",
     "output_type": "stream",
     "text": [
      "⚠️ Error: type NAType doesn't define __round__ method\n"
     ]
    },
    {
     "name": "stderr",
     "output_type": "stream",
     "text": [
      "Warning: Cannot load daily/2008/47721.csv.gz from https://data.meteostat.net/\n",
      "  6%|▌         | 620/11041 [00:34<06:52, 25.26it/s]"
     ]
    },
    {
     "name": "stdout",
     "output_type": "stream",
     "text": [
      "⚠️ Error: type NAType doesn't define __round__ method\n"
     ]
    },
    {
     "name": "stderr",
     "output_type": "stream",
     "text": [
      "  6%|▌         | 639/11041 [00:34<06:14, 27.79it/s]"
     ]
    },
    {
     "name": "stdout",
     "output_type": "stream",
     "text": [
      "⚠️ Error: type NAType doesn't define __round__ method\n"
     ]
    },
    {
     "name": "stderr",
     "output_type": "stream",
     "text": [
      "Warning: Cannot load daily/2008/83781.csv.gz from https://data.meteostat.net/\n",
      "Warning: Cannot load daily/2008/86910.csv.gz from https://data.meteostat.net/\n",
      "Warning: Cannot load daily/2008/83779.csv.gz from https://data.meteostat.net/\n",
      "  6%|▌         | 659/11041 [00:35<06:54, 25.03it/s]"
     ]
    },
    {
     "name": "stdout",
     "output_type": "stream",
     "text": [
      "⚠️ Error: type NAType doesn't define __round__ method\n"
     ]
    },
    {
     "name": "stderr",
     "output_type": "stream",
     "text": [
      "  6%|▌         | 677/11041 [00:36<07:30, 23.01it/s]"
     ]
    },
    {
     "name": "stdout",
     "output_type": "stream",
     "text": [
      "⚠️ Error: type NAType doesn't define __round__ method\n"
     ]
    },
    {
     "name": "stderr",
     "output_type": "stream",
     "text": [
      "  6%|▋         | 699/11041 [00:36<05:41, 30.33it/s]"
     ]
    },
    {
     "name": "stdout",
     "output_type": "stream",
     "text": [
      "⚠️ Error: type NAType doesn't define __round__ method\n"
     ]
    },
    {
     "name": "stderr",
     "output_type": "stream",
     "text": [
      "  7%|▋         | 720/11041 [00:37<04:40, 36.86it/s]"
     ]
    },
    {
     "name": "stdout",
     "output_type": "stream",
     "text": [
      "⚠️ Error: type NAType doesn't define __round__ method\n"
     ]
    },
    {
     "name": "stderr",
     "output_type": "stream",
     "text": [
      "Warning: Cannot load daily/2007/LELL0.csv.gz from https://data.meteostat.net/\n",
      "Warning: Cannot load daily/2007/08180.csv.gz from https://data.meteostat.net/\n",
      "  7%|▋         | 740/11041 [00:37<04:46, 35.96it/s]Warning: Cannot load daily/2007/07695.csv.gz from https://data.meteostat.net/\n",
      "Warning: Cannot load daily/2007/07688.csv.gz from https://data.meteostat.net/\n",
      "  7%|▋         | 784/11041 [00:39<05:57, 28.71it/s]Warning: Cannot load daily/2007/4XCYX.csv.gz from https://data.meteostat.net/\n",
      "Warning: Cannot load daily/2007/KHFY0.csv.gz from https://data.meteostat.net/\n",
      "  7%|▋         | 824/11041 [00:40<05:25, 31.34it/s]Warning: Cannot load daily/2007/EGTC0.csv.gz from https://data.meteostat.net/\n",
      "Warning: Cannot load daily/2007/EGTK0.csv.gz from https://data.meteostat.net/\n",
      "  8%|▊         | 867/11041 [00:42<05:56, 28.52it/s]Warning: Cannot load daily/2007/12840.csv.gz from https://data.meteostat.net/\n",
      "Warning: Cannot load daily/2007/12838.csv.gz from https://data.meteostat.net/\n",
      "  8%|▊         | 889/11041 [00:43<06:29, 26.07it/s]Warning: Cannot load daily/2007/LTBX0.csv.gz from https://data.meteostat.net/\n",
      "Warning: Cannot load daily/2007/LTBP0.csv.gz from https://data.meteostat.net/\n",
      "  8%|▊         | 911/11041 [00:44<07:10, 23.53it/s]"
     ]
    },
    {
     "name": "stdout",
     "output_type": "stream",
     "text": [
      "⚠️ Error: type NAType doesn't define __round__ method\n"
     ]
    },
    {
     "name": "stderr",
     "output_type": "stream",
     "text": [
      "Warning: Cannot load daily/2007/16081.csv.gz from https://data.meteostat.net/\n",
      "  8%|▊         | 933/11041 [00:45<06:56, 24.24it/s]"
     ]
    },
    {
     "name": "stdout",
     "output_type": "stream",
     "text": [
      "⚠️ Error: type NAType doesn't define __round__ method\n"
     ]
    },
    {
     "name": "stderr",
     "output_type": "stream",
     "text": [
      "  9%|▊         | 955/11041 [00:46<07:26, 22.60it/s]Warning: Cannot load daily/2007/47721.csv.gz from https://data.meteostat.net/\n",
      "  9%|▉         | 977/11041 [00:46<06:25, 26.11it/s]"
     ]
    },
    {
     "name": "stdout",
     "output_type": "stream",
     "text": [
      "⚠️ Error: type NAType doesn't define __round__ method\n"
     ]
    },
    {
     "name": "stderr",
     "output_type": "stream",
     "text": [
      "  9%|▉         | 999/11041 [00:47<05:45, 29.09it/s]"
     ]
    },
    {
     "name": "stdout",
     "output_type": "stream",
     "text": [
      "⚠️ Error: type NAType doesn't define __round__ method\n"
     ]
    },
    {
     "name": "stderr",
     "output_type": "stream",
     "text": [
      "Warning: Cannot load daily/2007/83781.csv.gz from https://data.meteostat.net/\n",
      "Warning: Cannot load daily/2007/86910.csv.gz from https://data.meteostat.net/\n",
      "Warning: Cannot load daily/2007/83779.csv.gz from https://data.meteostat.net/\n",
      "  9%|▉         | 1021/11041 [00:48<06:19, 26.43it/s]"
     ]
    },
    {
     "name": "stdout",
     "output_type": "stream",
     "text": [
      "⚠️ Error: type NAType doesn't define __round__ method\n"
     ]
    },
    {
     "name": "stderr",
     "output_type": "stream",
     "text": [
      "  9%|▉         | 1043/11041 [00:48<05:03, 32.99it/s]"
     ]
    },
    {
     "name": "stdout",
     "output_type": "stream",
     "text": [
      "⚠️ Error: type NAType doesn't define __round__ method\n"
     ]
    },
    {
     "name": "stderr",
     "output_type": "stream",
     "text": [
      " 10%|▉         | 1085/11041 [00:50<05:40, 29.21it/s]"
     ]
    },
    {
     "name": "stdout",
     "output_type": "stream",
     "text": [
      "⚠️ Error: type NAType doesn't define __round__ method\n"
     ]
    },
    {
     "name": "stderr",
     "output_type": "stream",
     "text": [
      " 10%|▉         | 1104/11041 [00:50<04:47, 34.57it/s]"
     ]
    },
    {
     "name": "stdout",
     "output_type": "stream",
     "text": [
      "⚠️ Error: type NAType doesn't define __round__ method\n"
     ]
    },
    {
     "name": "stderr",
     "output_type": "stream",
     "text": [
      " 10%|█         | 1125/11041 [00:51<05:58, 27.69it/s]Warning: Cannot load daily/2006/LELL0.csv.gz from https://data.meteostat.net/\n",
      "Warning: Cannot load daily/2006/08180.csv.gz from https://data.meteostat.net/\n",
      " 10%|█         | 1146/11041 [00:52<05:22, 30.64it/s]Warning: Cannot load daily/2006/07695.csv.gz from https://data.meteostat.net/\n",
      "Warning: Cannot load daily/2006/07688.csv.gz from https://data.meteostat.net/\n",
      " 11%|█         | 1168/11041 [00:52<05:29, 29.94it/s]Warning: Cannot load daily/2006/EGTC0.csv.gz from https://data.meteostat.net/\n",
      "Warning: Cannot load daily/2006/EGTK0.csv.gz from https://data.meteostat.net/\n",
      " 11%|█         | 1210/11041 [00:54<05:54, 27.73it/s]Warning: Cannot load daily/2006/4XCYX.csv.gz from https://data.meteostat.net/\n",
      "Warning: Cannot load daily/2006/KHFY0.csv.gz from https://data.meteostat.net/\n",
      " 11%|█▏        | 1267/11041 [00:56<06:24, 25.39it/s]Warning: Cannot load daily/2006/12840.csv.gz from https://data.meteostat.net/\n",
      "Warning: Cannot load daily/2006/12838.csv.gz from https://data.meteostat.net/\n",
      " 12%|█▏        | 1288/11041 [00:57<06:56, 23.39it/s]Warning: Cannot load daily/2006/LTBX0.csv.gz from https://data.meteostat.net/\n",
      "Warning: Cannot load daily/2006/17062.csv.gz from https://data.meteostat.net/\n",
      "Warning: Cannot load daily/2006/LTBP0.csv.gz from https://data.meteostat.net/\n",
      " 12%|█▏        | 1309/11041 [00:58<07:14, 22.41it/s]"
     ]
    },
    {
     "name": "stdout",
     "output_type": "stream",
     "text": [
      "⚠️ Error: type NAType doesn't define __round__ method\n"
     ]
    },
    {
     "name": "stderr",
     "output_type": "stream",
     "text": [
      " 12%|█▏        | 1330/11041 [00:59<06:50, 23.68it/s]"
     ]
    },
    {
     "name": "stdout",
     "output_type": "stream",
     "text": [
      "⚠️ Error: type NAType doesn't define __round__ method\n"
     ]
    },
    {
     "name": "stderr",
     "output_type": "stream",
     "text": [
      " 12%|█▏        | 1352/11041 [01:00<05:55, 27.25it/s]"
     ]
    },
    {
     "name": "stdout",
     "output_type": "stream",
     "text": [
      "⚠️ Error: type NAType doesn't define __round__ method\n"
     ]
    },
    {
     "name": "stderr",
     "output_type": "stream",
     "text": [
      " 12%|█▏        | 1374/11041 [01:00<05:52, 27.41it/s]"
     ]
    },
    {
     "name": "stdout",
     "output_type": "stream",
     "text": [
      "⚠️ Error: type NAType doesn't define __round__ method\n"
     ]
    },
    {
     "name": "stderr",
     "output_type": "stream",
     "text": [
      "Warning: Cannot load daily/2006/83781.csv.gz from https://data.meteostat.net/\n",
      "Warning: Cannot load daily/2006/86910.csv.gz from https://data.meteostat.net/\n",
      "Warning: Cannot load daily/2006/83779.csv.gz from https://data.meteostat.net/\n",
      " 13%|█▎        | 1396/11041 [01:01<06:37, 24.28it/s]"
     ]
    },
    {
     "name": "stdout",
     "output_type": "stream",
     "text": [
      "⚠️ Error: type NAType doesn't define __round__ method\n"
     ]
    },
    {
     "name": "stderr",
     "output_type": "stream",
     "text": [
      " 13%|█▎        | 1417/11041 [01:03<06:55, 23.17it/s]"
     ]
    },
    {
     "name": "stdout",
     "output_type": "stream",
     "text": [
      "⚠️ Error: type NAType doesn't define __round__ method\n"
     ]
    },
    {
     "name": "stderr",
     "output_type": "stream",
     "text": [
      " 13%|█▎        | 1457/11041 [01:03<04:34, 34.97it/s]"
     ]
    },
    {
     "name": "stdout",
     "output_type": "stream",
     "text": [
      "⚠️ Error: type NAType doesn't define __round__ method\n"
     ]
    },
    {
     "name": "stderr",
     "output_type": "stream",
     "text": [
      " 13%|█▎        | 1476/11041 [01:03<03:58, 40.05it/s]"
     ]
    },
    {
     "name": "stdout",
     "output_type": "stream",
     "text": [
      "⚠️ Error: type NAType doesn't define __round__ method\n"
     ]
    },
    {
     "name": "stderr",
     "output_type": "stream",
     "text": [
      "Warning: Cannot load daily/2005/LELL0.csv.gz from https://data.meteostat.net/\n",
      "Warning: Cannot load daily/2005/08180.csv.gz from https://data.meteostat.net/\n",
      " 14%|█▎        | 1496/11041 [01:04<04:02, 39.28it/s]Warning: Cannot load daily/2005/07695.csv.gz from https://data.meteostat.net/\n",
      "Warning: Cannot load daily/2005/07688.csv.gz from https://data.meteostat.net/\n",
      " 14%|█▍        | 1551/11041 [01:07<06:47, 23.30it/s]Warning: Cannot load daily/2005/KEYE0.csv.gz from https://data.meteostat.net/\n",
      "Warning: Cannot load daily/2005/4XCYX.csv.gz from https://data.meteostat.net/\n",
      "Warning: Cannot load daily/2005/KHFY0.csv.gz from https://data.meteostat.net/\n",
      " 14%|█▍        | 1577/11041 [01:08<07:14, 21.79it/s]Warning: Cannot load daily/2005/EGTC0.csv.gz from https://data.meteostat.net/\n",
      "Warning: Cannot load daily/2005/EGTK0.csv.gz from https://data.meteostat.net/\n",
      " 15%|█▍        | 1617/11041 [01:10<06:46, 23.17it/s]Warning: Cannot load daily/2005/12840.csv.gz from https://data.meteostat.net/\n",
      "Warning: Cannot load daily/2005/12838.csv.gz from https://data.meteostat.net/\n",
      " 15%|█▍        | 1637/11041 [01:11<07:04, 22.14it/s]Warning: Cannot load daily/2005/LTBX0.csv.gz from https://data.meteostat.net/\n",
      "Warning: Cannot load daily/2005/17062.csv.gz from https://data.meteostat.net/\n",
      "Warning: Cannot load daily/2005/LTBP0.csv.gz from https://data.meteostat.net/\n",
      " 15%|█▍        | 1655/11041 [01:12<07:22, 21.20it/s]"
     ]
    },
    {
     "name": "stdout",
     "output_type": "stream",
     "text": [
      "⚠️ Error: type NAType doesn't define __round__ method\n"
     ]
    },
    {
     "name": "stderr",
     "output_type": "stream",
     "text": [
      " 15%|█▌        | 1675/11041 [01:12<07:04, 22.06it/s]Warning: Cannot load daily/2005/06490.csv.gz from https://data.meteostat.net/\n",
      "Warning: Cannot load daily/2005/06494.csv.gz from https://data.meteostat.net/\n",
      " 15%|█▌        | 1695/11041 [01:13<07:24, 21.00it/s]Warning: Cannot load daily/2005/83781.csv.gz from https://data.meteostat.net/\n",
      "Warning: Cannot load daily/2005/86910.csv.gz from https://data.meteostat.net/\n",
      "Warning: Cannot load daily/2005/83779.csv.gz from https://data.meteostat.net/\n",
      " 16%|█▌        | 1715/11041 [01:14<07:36, 20.45it/s]"
     ]
    },
    {
     "name": "stdout",
     "output_type": "stream",
     "text": [
      "⚠️ Error: type NAType doesn't define __round__ method\n"
     ]
    },
    {
     "name": "stderr",
     "output_type": "stream",
     "text": [
      "Warning: Cannot load daily/2005/47651.csv.gz from https://data.meteostat.net/\n",
      " 16%|█▌        | 1733/11041 [01:15<07:21, 21.06it/s]"
     ]
    },
    {
     "name": "stdout",
     "output_type": "stream",
     "text": [
      "⚠️ Error: type NAType doesn't define __round__ method\n"
     ]
    },
    {
     "name": "stderr",
     "output_type": "stream",
     "text": [
      " 16%|█▌        | 1752/11041 [01:16<06:24, 24.15it/s]"
     ]
    },
    {
     "name": "stdout",
     "output_type": "stream",
     "text": [
      "⚠️ Error: type NAType doesn't define __round__ method\n"
     ]
    },
    {
     "name": "stderr",
     "output_type": "stream",
     "text": [
      " 16%|█▌        | 1772/11041 [01:17<06:51, 22.53it/s]"
     ]
    },
    {
     "name": "stdout",
     "output_type": "stream",
     "text": [
      "⚠️ Error: type NAType doesn't define __round__ method\n"
     ]
    },
    {
     "name": "stderr",
     "output_type": "stream",
     "text": [
      " 16%|█▌        | 1792/11041 [01:17<05:27, 28.25it/s]"
     ]
    },
    {
     "name": "stdout",
     "output_type": "stream",
     "text": [
      "⚠️ Error: type NAType doesn't define __round__ method\n"
     ]
    },
    {
     "name": "stderr",
     "output_type": "stream",
     "text": [
      " 16%|█▋        | 1812/11041 [01:17<04:25, 34.74it/s]"
     ]
    },
    {
     "name": "stdout",
     "output_type": "stream",
     "text": [
      "⚠️ Error: type NAType doesn't define __round__ method\n"
     ]
    },
    {
     "name": "stderr",
     "output_type": "stream",
     "text": [
      " 17%|█▋        | 1832/11041 [01:18<03:44, 41.04it/s]Warning: Cannot load daily/2004/LELL0.csv.gz from https://data.meteostat.net/\n",
      "Warning: Cannot load daily/2004/08180.csv.gz from https://data.meteostat.net/\n",
      " 17%|█▋        | 1852/11041 [01:18<03:51, 39.64it/s]Warning: Cannot load daily/2004/07695.csv.gz from https://data.meteostat.net/\n",
      "Warning: Cannot load daily/2004/07688.csv.gz from https://data.meteostat.net/\n",
      " 17%|█▋        | 1909/11041 [01:21<06:48, 22.36it/s]Warning: Cannot load daily/2004/KEYE0.csv.gz from https://data.meteostat.net/\n",
      "Warning: Cannot load daily/2004/4XCYX.csv.gz from https://data.meteostat.net/\n",
      "Warning: Cannot load daily/2004/KHFY0.csv.gz from https://data.meteostat.net/\n",
      " 18%|█▊        | 1944/11041 [01:23<06:08, 24.65it/s]Warning: Cannot load daily/2004/EGTC0.csv.gz from https://data.meteostat.net/\n",
      "Warning: Cannot load daily/2004/EGTK0.csv.gz from https://data.meteostat.net/\n",
      " 18%|█▊        | 1964/11041 [01:23<05:21, 28.24it/s]Warning: Cannot load daily/2004/10730.csv.gz from https://data.meteostat.net/\n",
      " 18%|█▊        | 1984/11041 [01:24<06:11, 24.38it/s]Warning: Cannot load daily/2004/12840.csv.gz from https://data.meteostat.net/\n",
      "Warning: Cannot load daily/2004/12838.csv.gz from https://data.meteostat.net/\n",
      " 18%|█▊        | 2004/11041 [01:25<06:44, 22.34it/s]Warning: Cannot load daily/2004/06490.csv.gz from https://data.meteostat.net/\n",
      "Warning: Cannot load daily/2004/06494.csv.gz from https://data.meteostat.net/\n",
      " 18%|█▊        | 2024/11041 [01:26<07:02, 21.33it/s]Warning: Cannot load daily/2004/16081.csv.gz from https://data.meteostat.net/\n",
      " 18%|█▊        | 2040/11041 [01:27<07:00, 21.41it/s]"
     ]
    },
    {
     "name": "stdout",
     "output_type": "stream",
     "text": [
      "⚠️ Error: type NAType doesn't define __round__ method\n"
     ]
    },
    {
     "name": "stderr",
     "output_type": "stream",
     "text": [
      " 19%|█▊        | 2059/11041 [01:28<06:08, 24.38it/s]"
     ]
    },
    {
     "name": "stdout",
     "output_type": "stream",
     "text": [
      "⚠️ Error: type NAType doesn't define __round__ method\n"
     ]
    },
    {
     "name": "stderr",
     "output_type": "stream",
     "text": [
      "Warning: Cannot load daily/2004/RJGG0.csv.gz from https://data.meteostat.net/\n",
      " 19%|█▉        | 2079/11041 [01:28<06:01, 24.76it/s]"
     ]
    },
    {
     "name": "stdout",
     "output_type": "stream",
     "text": [
      "⚠️ Error: type NAType doesn't define __round__ method\n"
     ]
    },
    {
     "name": "stderr",
     "output_type": "stream",
     "text": [
      "Warning: Cannot load daily/2004/83781.csv.gz from https://data.meteostat.net/\n",
      "Warning: Cannot load daily/2004/86910.csv.gz from https://data.meteostat.net/\n",
      "Warning: Cannot load daily/2004/83779.csv.gz from https://data.meteostat.net/\n",
      " 19%|█▉        | 2099/11041 [01:29<06:24, 23.28it/s]"
     ]
    },
    {
     "name": "stdout",
     "output_type": "stream",
     "text": [
      "⚠️ Error: type NAType doesn't define __round__ method\n"
     ]
    },
    {
     "name": "stderr",
     "output_type": "stream",
     "text": [
      " 19%|█▉        | 2119/11041 [01:30<06:56, 21.42it/s]"
     ]
    },
    {
     "name": "stdout",
     "output_type": "stream",
     "text": [
      "⚠️ Error: type NAType doesn't define __round__ method\n"
     ]
    },
    {
     "name": "stderr",
     "output_type": "stream",
     "text": [
      " 19%|█▉        | 2139/11041 [01:31<05:31, 26.89it/s]"
     ]
    },
    {
     "name": "stdout",
     "output_type": "stream",
     "text": [
      "⚠️ Error: type NAType doesn't define __round__ method\n"
     ]
    },
    {
     "name": "stderr",
     "output_type": "stream",
     "text": [
      "Warning: Cannot load daily/2003/83781.csv.gz from https://data.meteostat.net/\n",
      "Warning: Cannot load daily/2003/86910.csv.gz from https://data.meteostat.net/\n",
      "Warning: Cannot load daily/2003/83779.csv.gz from https://data.meteostat.net/\n",
      " 20%|█▉        | 2157/11041 [01:32<06:37, 22.36it/s]"
     ]
    },
    {
     "name": "stdout",
     "output_type": "stream",
     "text": [
      "⚠️ Error: type NAType doesn't define __round__ method\n"
     ]
    },
    {
     "name": "stderr",
     "output_type": "stream",
     "text": [
      " 20%|█▉        | 2177/11041 [01:32<05:14, 28.19it/s]Warning: Cannot load daily/2003/LELL0.csv.gz from https://data.meteostat.net/\n",
      "Warning: Cannot load daily/2003/08180.csv.gz from https://data.meteostat.net/\n",
      " 20%|█▉        | 2197/11041 [01:33<04:51, 30.32it/s]Warning: Cannot load daily/2003/11174.csv.gz from https://data.meteostat.net/\n",
      " 20%|██        | 2214/11041 [01:33<04:46, 30.79it/s]Warning: Cannot load daily/2003/07695.csv.gz from https://data.meteostat.net/\n",
      "Warning: Cannot load daily/2003/07688.csv.gz from https://data.meteostat.net/\n",
      " 20%|██        | 2250/11041 [01:35<06:19, 23.17it/s]Warning: Cannot load daily/2003/10510.csv.gz from https://data.meteostat.net/\n",
      " 21%|██        | 2290/11041 [01:37<05:38, 25.83it/s]Warning: Cannot load daily/2003/EGTC0.csv.gz from https://data.meteostat.net/\n",
      "Warning: Cannot load daily/2003/EGTK0.csv.gz from https://data.meteostat.net/\n",
      " 21%|██        | 2330/11041 [01:39<06:40, 21.75it/s]Warning: Cannot load daily/2003/12840.csv.gz from https://data.meteostat.net/\n",
      "Warning: Cannot load daily/2003/12838.csv.gz from https://data.meteostat.net/\n",
      " 21%|██▏       | 2347/11041 [01:40<07:38, 18.96it/s]Warning: Cannot load daily/2003/16081.csv.gz from https://data.meteostat.net/\n",
      " 21%|██▏       | 2367/11041 [01:41<07:04, 20.45it/s]"
     ]
    },
    {
     "name": "stdout",
     "output_type": "stream",
     "text": [
      "⚠️ Error: type NAType doesn't define __round__ method\n"
     ]
    },
    {
     "name": "stderr",
     "output_type": "stream",
     "text": [
      "Warning: Cannot load daily/2003/KEYE0.csv.gz from https://data.meteostat.net/\n",
      "Warning: Cannot load daily/2003/4XCYX.csv.gz from https://data.meteostat.net/\n",
      "Warning: Cannot load daily/2003/KHFY0.csv.gz from https://data.meteostat.net/\n",
      " 22%|██▏       | 2386/11041 [01:42<07:16, 19.84it/s]Warning: Cannot load daily/2003/RJGG0.csv.gz from https://data.meteostat.net/\n",
      " 22%|██▏       | 2406/11041 [01:42<06:42, 21.48it/s]"
     ]
    },
    {
     "name": "stdout",
     "output_type": "stream",
     "text": [
      "⚠️ Error: type NAType doesn't define __round__ method\n"
     ]
    },
    {
     "name": "stderr",
     "output_type": "stream",
     "text": [
      "Warning: Cannot load daily/2002/95866.csv.gz from https://data.meteostat.net/\n",
      " 22%|██▏       | 2426/11041 [01:43<07:01, 20.45it/s]"
     ]
    },
    {
     "name": "stdout",
     "output_type": "stream",
     "text": [
      "⚠️ Error: type NAType doesn't define __round__ method\n"
     ]
    },
    {
     "name": "stderr",
     "output_type": "stream",
     "text": [
      " 22%|██▏       | 2440/11041 [01:44<06:07, 23.39it/s]"
     ]
    },
    {
     "name": "stdout",
     "output_type": "stream",
     "text": [
      "⚠️ Error: type NAType doesn't define __round__ method\n"
     ]
    },
    {
     "name": "stderr",
     "output_type": "stream",
     "text": [
      "Warning: Cannot load daily/2002/83781.csv.gz from https://data.meteostat.net/\n",
      "Warning: Cannot load daily/2002/86910.csv.gz from https://data.meteostat.net/\n",
      "Warning: Cannot load daily/2002/83779.csv.gz from https://data.meteostat.net/\n",
      " 22%|██▏       | 2462/11041 [01:45<06:24, 22.33it/s]"
     ]
    },
    {
     "name": "stdout",
     "output_type": "stream",
     "text": [
      "⚠️ Error: type NAType doesn't define __round__ method\n"
     ]
    },
    {
     "name": "stderr",
     "output_type": "stream",
     "text": [
      " 22%|██▏       | 2484/11041 [01:45<04:55, 28.93it/s]"
     ]
    },
    {
     "name": "stdout",
     "output_type": "stream",
     "text": [
      "⚠️ Error: type NAType doesn't define __round__ method\n"
     ]
    },
    {
     "name": "stderr",
     "output_type": "stream",
     "text": [
      "Warning: Cannot load daily/2002/LELL0.csv.gz from https://data.meteostat.net/\n",
      "Warning: Cannot load daily/2002/08180.csv.gz from https://data.meteostat.net/\n",
      " 23%|██▎       | 2504/11041 [01:46<04:36, 30.86it/s]Warning: Cannot load daily/2002/11165.csv.gz from https://data.meteostat.net/\n",
      "Warning: Cannot load daily/2002/11174.csv.gz from https://data.meteostat.net/\n",
      " 23%|██▎       | 2523/11041 [01:46<04:38, 30.55it/s]Warning: Cannot load daily/2002/07695.csv.gz from https://data.meteostat.net/\n",
      "Warning: Cannot load daily/2002/07688.csv.gz from https://data.meteostat.net/\n",
      " 23%|██▎       | 2566/11041 [01:48<05:24, 26.08it/s]Warning: Cannot load daily/2002/10510.csv.gz from https://data.meteostat.net/\n",
      " 23%|██▎       | 2588/11041 [01:49<06:01, 23.38it/s]Warning: Cannot load daily/2002/EGTC0.csv.gz from https://data.meteostat.net/\n",
      "Warning: Cannot load daily/2002/EGTK0.csv.gz from https://data.meteostat.net/\n",
      " 24%|██▍       | 2630/11041 [01:50<04:20, 32.27it/s]Warning: Cannot load daily/2002/10730.csv.gz from https://data.meteostat.net/\n",
      " 24%|██▍       | 2648/11041 [01:51<05:43, 24.45it/s]Warning: Cannot load daily/2002/12840.csv.gz from https://data.meteostat.net/\n",
      "Warning: Cannot load daily/2002/12838.csv.gz from https://data.meteostat.net/\n",
      " 24%|██▍       | 2668/11041 [01:53<06:27, 21.58it/s]Warning: Cannot load daily/2002/06490.csv.gz from https://data.meteostat.net/\n",
      "Warning: Cannot load daily/2002/99870.csv.gz from https://data.meteostat.net/\n",
      "Warning: Cannot load daily/2002/06494.csv.gz from https://data.meteostat.net/\n",
      " 24%|██▍       | 2688/11041 [01:54<06:55, 20.09it/s]Warning: Cannot load daily/2002/16081.csv.gz from https://data.meteostat.net/\n",
      " 25%|██▍       | 2708/11041 [01:55<06:32, 21.22it/s]"
     ]
    },
    {
     "name": "stdout",
     "output_type": "stream",
     "text": [
      "⚠️ Error: type NAType doesn't define __round__ method\n"
     ]
    },
    {
     "name": "stderr",
     "output_type": "stream",
     "text": [
      "Warning: Cannot load daily/2002/KEYE0.csv.gz from https://data.meteostat.net/\n",
      "Warning: Cannot load daily/2002/4XCYX.csv.gz from https://data.meteostat.net/\n",
      "Warning: Cannot load daily/2002/KHFY0.csv.gz from https://data.meteostat.net/\n",
      " 25%|██▍       | 2728/11041 [01:56<07:15, 19.07it/s]Warning: Cannot load daily/2002/RJGG0.csv.gz from https://data.meteostat.net/\n",
      " 25%|██▍       | 2748/11041 [01:57<06:55, 19.96it/s]"
     ]
    },
    {
     "name": "stdout",
     "output_type": "stream",
     "text": [
      "⚠️ Error: type NAType doesn't define __round__ method\n"
     ]
    },
    {
     "name": "stderr",
     "output_type": "stream",
     "text": [
      "Warning: Cannot load daily/2001/95866.csv.gz from https://data.meteostat.net/\n",
      " 25%|██▌       | 2767/11041 [01:58<07:22, 18.71it/s]"
     ]
    },
    {
     "name": "stdout",
     "output_type": "stream",
     "text": [
      "⚠️ Error: type NAType doesn't define __round__ method\n"
     ]
    },
    {
     "name": "stderr",
     "output_type": "stream",
     "text": [
      " 25%|██▌       | 2788/11041 [01:58<05:45, 23.88it/s]"
     ]
    },
    {
     "name": "stdout",
     "output_type": "stream",
     "text": [
      "⚠️ Error: type NAType doesn't define __round__ method\n"
     ]
    },
    {
     "name": "stderr",
     "output_type": "stream",
     "text": [
      "Warning: Cannot load daily/2001/83781.csv.gz from https://data.meteostat.net/\n",
      "Warning: Cannot load daily/2001/86910.csv.gz from https://data.meteostat.net/\n",
      "Warning: Cannot load daily/2001/83779.csv.gz from https://data.meteostat.net/\n",
      " 25%|██▌       | 2809/11041 [01:59<06:16, 21.86it/s]"
     ]
    },
    {
     "name": "stdout",
     "output_type": "stream",
     "text": [
      "⚠️ Error: type NAType doesn't define __round__ method\n"
     ]
    },
    {
     "name": "stderr",
     "output_type": "stream",
     "text": [
      " 26%|██▌       | 2830/11041 [02:00<04:57, 27.62it/s]"
     ]
    },
    {
     "name": "stdout",
     "output_type": "stream",
     "text": [
      "⚠️ Error: type NAType doesn't define __round__ method\n"
     ]
    },
    {
     "name": "stderr",
     "output_type": "stream",
     "text": [
      "Warning: Cannot load daily/2001/LELL0.csv.gz from https://data.meteostat.net/\n",
      "Warning: Cannot load daily/2001/08180.csv.gz from https://data.meteostat.net/\n",
      " 26%|██▌       | 2852/11041 [02:00<04:32, 30.03it/s]Warning: Cannot load daily/2001/11165.csv.gz from https://data.meteostat.net/\n",
      "Warning: Cannot load daily/2001/11174.csv.gz from https://data.meteostat.net/\n",
      " 26%|██▌       | 2874/11041 [02:01<04:16, 31.81it/s]Warning: Cannot load daily/2001/07695.csv.gz from https://data.meteostat.net/\n",
      "Warning: Cannot load daily/2001/07688.csv.gz from https://data.meteostat.net/\n",
      " 26%|██▋       | 2916/11041 [02:03<05:22, 25.23it/s]Warning: Cannot load daily/2001/10510.csv.gz from https://data.meteostat.net/\n",
      " 27%|██▋       | 2959/11041 [02:05<05:01, 26.82it/s]Warning: Cannot load daily/2001/EGTC0.csv.gz from https://data.meteostat.net/\n",
      "Warning: Cannot load daily/2001/EGTK0.csv.gz from https://data.meteostat.net/\n",
      " 27%|██▋       | 2980/11041 [02:05<04:37, 29.09it/s]Warning: Cannot load daily/2001/10730.csv.gz from https://data.meteostat.net/\n",
      " 27%|██▋       | 2999/11041 [02:06<05:40, 23.63it/s]Warning: Cannot load daily/2001/12840.csv.gz from https://data.meteostat.net/\n",
      "Warning: Cannot load daily/2001/12838.csv.gz from https://data.meteostat.net/\n",
      " 27%|██▋       | 3019/11041 [02:08<06:32, 20.45it/s]"
     ]
    },
    {
     "name": "stdout",
     "output_type": "stream",
     "text": [
      "⚠️ Error: type NAType doesn't define __round__ method\n"
     ]
    },
    {
     "name": "stderr",
     "output_type": "stream",
     "text": [
      "Warning: Cannot load daily/2001/06490.csv.gz from https://data.meteostat.net/\n",
      "Warning: Cannot load daily/2001/99870.csv.gz from https://data.meteostat.net/\n",
      "Warning: Cannot load daily/2001/06494.csv.gz from https://data.meteostat.net/\n",
      " 28%|██▊       | 3040/11041 [02:09<06:53, 19.34it/s]Warning: Cannot load daily/2001/16081.csv.gz from https://data.meteostat.net/\n",
      " 28%|██▊       | 3057/11041 [02:10<07:01, 18.92it/s]"
     ]
    },
    {
     "name": "stdout",
     "output_type": "stream",
     "text": [
      "⚠️ Error: type NAType doesn't define __round__ method\n"
     ]
    },
    {
     "name": "stderr",
     "output_type": "stream",
     "text": [
      "Warning: Cannot load daily/2001/KEYE0.csv.gz from https://data.meteostat.net/\n",
      "Warning: Cannot load daily/2001/4XCYX.csv.gz from https://data.meteostat.net/\n",
      "Warning: Cannot load daily/2001/KHFY0.csv.gz from https://data.meteostat.net/\n",
      " 28%|██▊       | 3078/11041 [02:11<07:04, 18.76it/s]Warning: Cannot load daily/2001/RJGG0.csv.gz from https://data.meteostat.net/\n",
      " 28%|██▊       | 3100/11041 [02:12<06:29, 20.41it/s]"
     ]
    },
    {
     "name": "stdout",
     "output_type": "stream",
     "text": [
      "⚠️ Error: type NAType doesn't define __round__ method\n"
     ]
    },
    {
     "name": "stderr",
     "output_type": "stream",
     "text": [
      "Warning: Cannot load daily/2000/95866.csv.gz from https://data.meteostat.net/\n",
      " 28%|██▊       | 3122/11041 [02:13<06:36, 19.96it/s]"
     ]
    },
    {
     "name": "stdout",
     "output_type": "stream",
     "text": [
      "⚠️ Error: type NAType doesn't define __round__ method\n"
     ]
    },
    {
     "name": "stderr",
     "output_type": "stream",
     "text": [
      "Warning: Cannot load daily/2000/83781.csv.gz from https://data.meteostat.net/\n",
      "Warning: Cannot load daily/2000/86910.csv.gz from https://data.meteostat.net/\n",
      "Warning: Cannot load daily/2000/83779.csv.gz from https://data.meteostat.net/\n",
      " 28%|██▊       | 3144/11041 [02:14<06:45, 19.49it/s]"
     ]
    },
    {
     "name": "stdout",
     "output_type": "stream",
     "text": [
      "⚠️ Error: type NAType doesn't define __round__ method\n"
     ]
    },
    {
     "name": "stderr",
     "output_type": "stream",
     "text": [
      " 29%|██▊       | 3164/11041 [02:15<05:23, 24.37it/s]"
     ]
    },
    {
     "name": "stdout",
     "output_type": "stream",
     "text": [
      "⚠️ Error: type NAType doesn't define __round__ method\n"
     ]
    },
    {
     "name": "stderr",
     "output_type": "stream",
     "text": [
      "Warning: Cannot load daily/2000/EGTC0.csv.gz from https://data.meteostat.net/\n",
      "Warning: Cannot load daily/2000/EGTK0.csv.gz from https://data.meteostat.net/\n",
      " 29%|██▉       | 3186/11041 [02:15<04:48, 27.24it/s]Warning: Cannot load daily/2000/LELL0.csv.gz from https://data.meteostat.net/\n",
      "Warning: Cannot load daily/2000/08180.csv.gz from https://data.meteostat.net/\n",
      " 29%|██▉       | 3208/11041 [02:16<05:45, 22.66it/s]Warning: Cannot load daily/2000/10510.csv.gz from https://data.meteostat.net/\n",
      " 29%|██▉       | 3229/11041 [02:18<06:30, 20.02it/s]Warning: Cannot load daily/2000/07695.csv.gz from https://data.meteostat.net/\n",
      "Warning: Cannot load daily/2000/07688.csv.gz from https://data.meteostat.net/\n",
      " 30%|██▉       | 3292/11041 [02:20<05:11, 24.91it/s]Warning: Cannot load daily/2000/11165.csv.gz from https://data.meteostat.net/\n",
      "Warning: Cannot load daily/2000/11174.csv.gz from https://data.meteostat.net/\n",
      " 30%|███       | 3314/11041 [02:21<04:39, 27.62it/s]Warning: Cannot load daily/2000/10730.csv.gz from https://data.meteostat.net/\n",
      " 30%|███       | 3333/11041 [02:22<05:29, 23.43it/s]Warning: Cannot load daily/2000/12840.csv.gz from https://data.meteostat.net/\n",
      "Warning: Cannot load daily/2000/12838.csv.gz from https://data.meteostat.net/\n",
      " 30%|███       | 3353/11041 [02:23<06:01, 21.24it/s]Warning: Cannot load daily/2000/06490.csv.gz from https://data.meteostat.net/\n",
      "Warning: Cannot load daily/2000/99870.csv.gz from https://data.meteostat.net/\n",
      "Warning: Cannot load daily/2000/06494.csv.gz from https://data.meteostat.net/\n",
      " 31%|███       | 3375/11041 [02:24<06:07, 20.83it/s]Warning: Cannot load daily/2000/16081.csv.gz from https://data.meteostat.net/\n",
      " 31%|███       | 3397/11041 [02:25<05:45, 22.12it/s]"
     ]
    },
    {
     "name": "stdout",
     "output_type": "stream",
     "text": [
      "⚠️ Error: type NAType doesn't define __round__ method\n"
     ]
    },
    {
     "name": "stderr",
     "output_type": "stream",
     "text": [
      "Warning: Cannot load daily/2000/KEYE0.csv.gz from https://data.meteostat.net/\n",
      "Warning: Cannot load daily/2000/4XCYX.csv.gz from https://data.meteostat.net/\n",
      "Warning: Cannot load daily/2000/KHFY0.csv.gz from https://data.meteostat.net/\n",
      " 31%|███       | 3413/11041 [02:26<06:17, 20.20it/s]Warning: Cannot load daily/2000/RJGG0.csv.gz from https://data.meteostat.net/\n",
      " 31%|███       | 3435/11041 [02:27<05:41, 22.30it/s]"
     ]
    },
    {
     "name": "stdout",
     "output_type": "stream",
     "text": [
      "⚠️ Error: type NAType doesn't define __round__ method\n"
     ]
    },
    {
     "name": "stderr",
     "output_type": "stream",
     "text": [
      " 31%|███▏      | 3457/11041 [02:27<04:26, 28.42it/s]"
     ]
    },
    {
     "name": "stdout",
     "output_type": "stream",
     "text": [
      "⚠️ Error: type NAType doesn't define __round__ method\n"
     ]
    },
    {
     "name": "stderr",
     "output_type": "stream",
     "text": [
      "Warning: Cannot load daily/1999/95866.csv.gz from https://data.meteostat.net/\n",
      " 31%|███▏      | 3476/11041 [02:28<05:10, 24.34it/s]"
     ]
    },
    {
     "name": "stdout",
     "output_type": "stream",
     "text": [
      "⚠️ Error: type NAType doesn't define __round__ method\n"
     ]
    },
    {
     "name": "stderr",
     "output_type": "stream",
     "text": [
      "Warning: Cannot load daily/1999/83781.csv.gz from https://data.meteostat.net/\n",
      "Warning: Cannot load daily/1999/86910.csv.gz from https://data.meteostat.net/\n",
      "Warning: Cannot load daily/1999/83779.csv.gz from https://data.meteostat.net/\n",
      " 32%|███▏      | 3516/11041 [02:30<04:21, 28.73it/s]"
     ]
    },
    {
     "name": "stdout",
     "output_type": "stream",
     "text": [
      "⚠️ Error: type NAType doesn't define __round__ method\n"
     ]
    },
    {
     "name": "stderr",
     "output_type": "stream",
     "text": [
      "Warning: Cannot load daily/1999/07695.csv.gz from https://data.meteostat.net/\n",
      "Warning: Cannot load daily/1999/07688.csv.gz from https://data.meteostat.net/\n",
      " 32%|███▏      | 3536/11041 [02:30<04:34, 27.31it/s]Warning: Cannot load daily/1999/LELL0.csv.gz from https://data.meteostat.net/\n",
      "Warning: Cannot load daily/1999/08180.csv.gz from https://data.meteostat.net/\n",
      " 33%|███▎      | 3598/11041 [02:32<04:04, 30.43it/s]Warning: Cannot load daily/1999/EGTC0.csv.gz from https://data.meteostat.net/\n",
      "Warning: Cannot load daily/1999/EGTK0.csv.gz from https://data.meteostat.net/\n",
      " 33%|███▎      | 3620/11041 [02:33<03:47, 32.66it/s]Warning: Cannot load daily/1999/11165.csv.gz from https://data.meteostat.net/\n",
      "Warning: Cannot load daily/1999/11174.csv.gz from https://data.meteostat.net/\n",
      " 33%|███▎      | 3640/11041 [02:33<03:36, 34.25it/s]Warning: Cannot load daily/1999/10730.csv.gz from https://data.meteostat.net/\n",
      " 33%|███▎      | 3662/11041 [02:35<04:26, 27.68it/s]Warning: Cannot load daily/1999/12840.csv.gz from https://data.meteostat.net/\n",
      "Warning: Cannot load daily/1999/12838.csv.gz from https://data.meteostat.net/\n",
      " 33%|███▎      | 3682/11041 [02:36<04:58, 24.61it/s]Warning: Cannot load daily/1999/06490.csv.gz from https://data.meteostat.net/\n",
      "Warning: Cannot load daily/1999/99870.csv.gz from https://data.meteostat.net/\n",
      "Warning: Cannot load daily/1999/06494.csv.gz from https://data.meteostat.net/\n",
      " 34%|███▎      | 3704/11041 [02:37<05:06, 23.94it/s]Warning: Cannot load daily/1999/16081.csv.gz from https://data.meteostat.net/\n",
      " 34%|███▎      | 3725/11041 [02:37<04:58, 24.49it/s]"
     ]
    },
    {
     "name": "stdout",
     "output_type": "stream",
     "text": [
      "⚠️ Error: type NAType doesn't define __round__ method\n"
     ]
    },
    {
     "name": "stderr",
     "output_type": "stream",
     "text": [
      "Warning: Cannot load daily/1999/10510.csv.gz from https://data.meteostat.net/\n",
      " 34%|███▍      | 3765/11041 [02:39<04:29, 27.02it/s]"
     ]
    },
    {
     "name": "stdout",
     "output_type": "stream",
     "text": [
      "⚠️ Error: type NAType doesn't define __round__ method\n"
     ]
    },
    {
     "name": "stderr",
     "output_type": "stream",
     "text": [
      "Warning: Cannot load daily/1999/RJGG0.csv.gz from https://data.meteostat.net/\n",
      " 34%|███▍      | 3785/11041 [02:40<04:38, 26.08it/s]"
     ]
    },
    {
     "name": "stdout",
     "output_type": "stream",
     "text": [
      "⚠️ Error: type NAType doesn't define __round__ method\n"
     ]
    },
    {
     "name": "stderr",
     "output_type": "stream",
     "text": [
      "Warning: Cannot load daily/1998/95866.csv.gz from https://data.meteostat.net/\n",
      "Warning: Cannot load daily/1998/95874.csv.gz from https://data.meteostat.net/\n",
      " 34%|███▍      | 3806/11041 [02:41<04:58, 24.22it/s]"
     ]
    },
    {
     "name": "stdout",
     "output_type": "stream",
     "text": [
      "⚠️ Error: type NAType doesn't define __round__ method\n"
     ]
    },
    {
     "name": "stderr",
     "output_type": "stream",
     "text": [
      "Warning: Cannot load daily/1998/83781.csv.gz from https://data.meteostat.net/\n",
      "Warning: Cannot load daily/1998/86910.csv.gz from https://data.meteostat.net/\n",
      "Warning: Cannot load daily/1998/83779.csv.gz from https://data.meteostat.net/\n",
      " 35%|███▍      | 3827/11041 [02:42<05:13, 22.99it/s]Warning: Cannot load daily/1998/87571.csv.gz from https://data.meteostat.net/\n",
      " 35%|███▌      | 3870/11041 [02:43<04:13, 28.29it/s]Warning: Cannot load daily/1998/LELL0.csv.gz from https://data.meteostat.net/\n",
      "Warning: Cannot load daily/1998/08180.csv.gz from https://data.meteostat.net/\n",
      " 35%|███▌      | 3891/11041 [02:44<03:55, 30.37it/s]Warning: Cannot load daily/1998/07695.csv.gz from https://data.meteostat.net/\n",
      "Warning: Cannot load daily/1998/07688.csv.gz from https://data.meteostat.net/\n",
      " 35%|███▌      | 3912/11041 [02:44<04:05, 29.07it/s]"
     ]
    },
    {
     "name": "stdout",
     "output_type": "stream",
     "text": [
      "⚠️ Error: type NAType doesn't define __round__ method\n"
     ]
    },
    {
     "name": "stderr",
     "output_type": "stream",
     "text": [
      " 36%|███▌      | 3932/11041 [02:45<04:40, 25.35it/s]Warning: Cannot load daily/1998/07260.csv.gz from https://data.meteostat.net/\n",
      " 36%|███▌      | 3949/11041 [02:46<03:55, 30.08it/s]Warning: Cannot load daily/1998/EGTC0.csv.gz from https://data.meteostat.net/\n",
      "Warning: Cannot load daily/1998/EGTK0.csv.gz from https://data.meteostat.net/\n",
      " 36%|███▌      | 3971/11041 [02:46<03:29, 33.67it/s]Warning: Cannot load daily/1998/11165.csv.gz from https://data.meteostat.net/\n",
      "Warning: Cannot load daily/1998/11174.csv.gz from https://data.meteostat.net/\n",
      " 36%|███▌      | 3993/11041 [02:47<03:12, 36.53it/s]Warning: Cannot load daily/1998/10730.csv.gz from https://data.meteostat.net/\n",
      " 36%|███▋      | 4013/11041 [02:48<04:06, 28.55it/s]Warning: Cannot load daily/1998/12839.csv.gz from https://data.meteostat.net/\n",
      "Warning: Cannot load daily/1998/12840.csv.gz from https://data.meteostat.net/\n",
      " 37%|███▋      | 4034/11041 [02:49<04:33, 25.63it/s]Warning: Cannot load daily/1998/06490.csv.gz from https://data.meteostat.net/\n",
      "Warning: Cannot load daily/1998/99870.csv.gz from https://data.meteostat.net/\n",
      "Warning: Cannot load daily/1998/06494.csv.gz from https://data.meteostat.net/\n",
      " 37%|███▋      | 4055/11041 [02:50<04:59, 23.30it/s]Warning: Cannot load daily/1998/16081.csv.gz from https://data.meteostat.net/\n",
      " 37%|███▋      | 4070/11041 [02:51<05:05, 22.85it/s]Warning: Cannot load daily/1998/10510.csv.gz from https://data.meteostat.net/\n",
      " 37%|███▋      | 4092/11041 [02:52<05:16, 21.95it/s]Warning: Cannot load daily/1998/RJGG0.csv.gz from https://data.meteostat.net/\n",
      " 37%|███▋      | 4114/11041 [02:52<04:49, 23.90it/s]"
     ]
    },
    {
     "name": "stdout",
     "output_type": "stream",
     "text": [
      "⚠️ Error: type NAType doesn't define __round__ method\n"
     ]
    },
    {
     "name": "stderr",
     "output_type": "stream",
     "text": [
      "Warning: Cannot load daily/1997/95866.csv.gz from https://data.meteostat.net/\n",
      "Warning: Cannot load daily/1997/95874.csv.gz from https://data.meteostat.net/\n",
      " 37%|███▋      | 4135/11041 [02:53<05:04, 22.69it/s]"
     ]
    },
    {
     "name": "stdout",
     "output_type": "stream",
     "text": [
      "⚠️ Error: type NAType doesn't define __round__ method\n"
     ]
    },
    {
     "name": "stderr",
     "output_type": "stream",
     "text": [
      "Warning: Cannot load daily/1997/86910.csv.gz from https://data.meteostat.net/\n",
      "Warning: Cannot load daily/1997/83779.csv.gz from https://data.meteostat.net/\n",
      " 38%|███▊      | 4153/11041 [02:54<05:30, 20.81it/s]"
     ]
    },
    {
     "name": "stdout",
     "output_type": "stream",
     "text": [
      "⚠️ Error: type NAType doesn't define __round__ method\n"
     ]
    },
    {
     "name": "stderr",
     "output_type": "stream",
     "text": [
      "Warning: Cannot load daily/1997/87571.csv.gz from https://data.meteostat.net/\n",
      " 38%|███▊      | 4194/11041 [02:56<04:25, 25.78it/s]"
     ]
    },
    {
     "name": "stdout",
     "output_type": "stream",
     "text": [
      "⚠️ Error: type NAType doesn't define __round__ method\n"
     ]
    },
    {
     "name": "stderr",
     "output_type": "stream",
     "text": [
      "Warning: Cannot load daily/1997/07695.csv.gz from https://data.meteostat.net/\n",
      "Warning: Cannot load daily/1997/07688.csv.gz from https://data.meteostat.net/\n",
      " 38%|███▊      | 4215/11041 [02:57<04:19, 26.29it/s]"
     ]
    },
    {
     "name": "stdout",
     "output_type": "stream",
     "text": [
      "⚠️ Error: type NAType doesn't define __round__ method\n"
     ]
    },
    {
     "name": "stderr",
     "output_type": "stream",
     "text": [
      "Warning: Cannot load daily/1997/LELL0.csv.gz from https://data.meteostat.net/\n",
      "Warning: Cannot load daily/1997/08180.csv.gz from https://data.meteostat.net/\n",
      " 39%|███▊      | 4258/11041 [02:58<04:17, 26.34it/s]Warning: Cannot load daily/1997/07260.csv.gz from https://data.meteostat.net/\n",
      " 39%|███▊      | 4277/11041 [02:58<03:34, 31.56it/s]Warning: Cannot load daily/1997/EGTC0.csv.gz from https://data.meteostat.net/\n",
      "Warning: Cannot load daily/1997/EGTK0.csv.gz from https://data.meteostat.net/\n",
      " 39%|███▉      | 4299/11041 [02:59<03:17, 34.14it/s]Warning: Cannot load daily/1997/10730.csv.gz from https://data.meteostat.net/\n",
      " 39%|███▉      | 4319/11041 [03:00<04:04, 27.46it/s]Warning: Cannot load daily/1997/12840.csv.gz from https://data.meteostat.net/\n",
      " 39%|███▉      | 4340/11041 [03:01<04:29, 24.82it/s]"
     ]
    },
    {
     "name": "stdout",
     "output_type": "stream",
     "text": [
      "⚠️ Error: type NAType doesn't define __round__ method\n"
     ]
    },
    {
     "name": "stderr",
     "output_type": "stream",
     "text": [
      "Warning: Cannot load daily/1997/06490.csv.gz from https://data.meteostat.net/\n",
      "Warning: Cannot load daily/1997/99870.csv.gz from https://data.meteostat.net/\n",
      "Warning: Cannot load daily/1997/06494.csv.gz from https://data.meteostat.net/\n",
      " 40%|███▉      | 4362/11041 [03:02<04:54, 22.66it/s]Warning: Cannot load daily/1997/16081.csv.gz from https://data.meteostat.net/\n",
      " 40%|███▉      | 4384/11041 [03:03<04:36, 24.05it/s]Warning: Cannot load daily/1997/11165.csv.gz from https://data.meteostat.net/\n",
      "Warning: Cannot load daily/1997/11174.csv.gz from https://data.meteostat.net/\n",
      " 40%|███▉      | 4406/11041 [03:04<03:59, 27.67it/s]Warning: Cannot load daily/1997/10510.csv.gz from https://data.meteostat.net/\n",
      " 40%|████      | 4427/11041 [03:05<04:23, 25.12it/s]Warning: Cannot load daily/1997/RJGG0.csv.gz from https://data.meteostat.net/\n",
      " 40%|████      | 4447/11041 [03:05<04:24, 24.97it/s]"
     ]
    },
    {
     "name": "stdout",
     "output_type": "stream",
     "text": [
      "⚠️ Error: type NAType doesn't define __round__ method\n"
     ]
    },
    {
     "name": "stderr",
     "output_type": "stream",
     "text": [
      " 40%|████      | 4468/11041 [03:06<04:19, 25.37it/s]"
     ]
    },
    {
     "name": "stdout",
     "output_type": "stream",
     "text": [
      "⚠️ Error: type NAType doesn't define __round__ method\n"
     ]
    },
    {
     "name": "stderr",
     "output_type": "stream",
     "text": [
      "Warning: Cannot load daily/1996/95866.csv.gz from https://data.meteostat.net/\n",
      "Warning: Cannot load daily/1996/95874.csv.gz from https://data.meteostat.net/\n",
      " 41%|████      | 4490/11041 [03:07<04:36, 23.71it/s]"
     ]
    },
    {
     "name": "stdout",
     "output_type": "stream",
     "text": [
      "⚠️ Error: type NAType doesn't define __round__ method\n"
     ]
    },
    {
     "name": "stderr",
     "output_type": "stream",
     "text": [
      "Warning: Cannot load daily/1996/86910.csv.gz from https://data.meteostat.net/\n",
      "Warning: Cannot load daily/1996/83779.csv.gz from https://data.meteostat.net/\n",
      " 41%|████      | 4509/11041 [03:08<04:54, 22.15it/s]"
     ]
    },
    {
     "name": "stdout",
     "output_type": "stream",
     "text": [
      "⚠️ Error: type NAType doesn't define __round__ method\n"
     ]
    },
    {
     "name": "stderr",
     "output_type": "stream",
     "text": [
      "Warning: Cannot load daily/1996/87571.csv.gz from https://data.meteostat.net/\n",
      " 41%|████      | 4530/11041 [03:09<05:01, 21.61it/s]Warning: Cannot load daily/1996/10510.csv.gz from https://data.meteostat.net/\n",
      " 41%|████▏     | 4572/11041 [03:11<04:06, 26.22it/s]Warning: Cannot load daily/1996/07695.csv.gz from https://data.meteostat.net/\n",
      "Warning: Cannot load daily/1996/07688.csv.gz from https://data.meteostat.net/\n",
      " 42%|████▏     | 4593/11041 [03:11<04:02, 26.54it/s]"
     ]
    },
    {
     "name": "stdout",
     "output_type": "stream",
     "text": [
      "⚠️ Error: type NAType doesn't define __round__ method\n"
     ]
    },
    {
     "name": "stderr",
     "output_type": "stream",
     "text": [
      "Warning: Cannot load daily/1996/LELL0.csv.gz from https://data.meteostat.net/\n",
      "Warning: Cannot load daily/1996/08180.csv.gz from https://data.meteostat.net/\n",
      " 42%|████▏     | 4626/11041 [03:13<04:37, 23.09it/s]Warning: Cannot load daily/1996/07260.csv.gz from https://data.meteostat.net/\n",
      " 42%|████▏     | 4648/11041 [03:13<03:28, 30.70it/s]Warning: Cannot load daily/1996/EGTC0.csv.gz from https://data.meteostat.net/\n",
      "Warning: Cannot load daily/1996/EGTK0.csv.gz from https://data.meteostat.net/\n",
      " 42%|████▏     | 4669/11041 [03:14<03:17, 32.25it/s]Warning: Cannot load daily/1996/10730.csv.gz from https://data.meteostat.net/\n",
      " 42%|████▏     | 4689/11041 [03:15<04:01, 26.32it/s]Warning: Cannot load daily/1996/12839.csv.gz from https://data.meteostat.net/\n",
      "Warning: Cannot load daily/1996/12840.csv.gz from https://data.meteostat.net/\n",
      " 43%|████▎     | 4707/11041 [03:16<04:34, 23.04it/s]"
     ]
    },
    {
     "name": "stdout",
     "output_type": "stream",
     "text": [
      "⚠️ Error: type NAType doesn't define __round__ method\n"
     ]
    },
    {
     "name": "stderr",
     "output_type": "stream",
     "text": [
      "Warning: Cannot load daily/1996/06490.csv.gz from https://data.meteostat.net/\n",
      "Warning: Cannot load daily/1996/99870.csv.gz from https://data.meteostat.net/\n",
      "Warning: Cannot load daily/1996/06494.csv.gz from https://data.meteostat.net/\n",
      " 43%|████▎     | 4726/11041 [03:17<05:00, 21.02it/s]Warning: Cannot load daily/1996/16081.csv.gz from https://data.meteostat.net/\n",
      " 43%|████▎     | 4742/11041 [03:18<05:05, 20.60it/s]Warning: Cannot load daily/1996/LPCS0.csv.gz from https://data.meteostat.net/\n",
      "Warning: Cannot load daily/1996/08532.csv.gz from https://data.meteostat.net/\n",
      "Warning: Cannot load daily/1996/08536.csv.gz from https://data.meteostat.net/\n",
      " 43%|████▎     | 4762/11041 [03:19<05:12, 20.07it/s]"
     ]
    },
    {
     "name": "stdout",
     "output_type": "stream",
     "text": [
      "⚠️ Error: type NAType doesn't define __round__ method\n"
     ]
    },
    {
     "name": "stderr",
     "output_type": "stream",
     "text": [
      "Warning: Cannot load daily/1996/RJGG0.csv.gz from https://data.meteostat.net/\n",
      " 43%|████▎     | 4782/11041 [03:20<04:57, 21.03it/s]"
     ]
    },
    {
     "name": "stdout",
     "output_type": "stream",
     "text": [
      "⚠️ Error: type NAType doesn't define __round__ method\n"
     ]
    },
    {
     "name": "stderr",
     "output_type": "stream",
     "text": [
      " 43%|████▎     | 4800/11041 [03:20<04:02, 25.70it/s]"
     ]
    },
    {
     "name": "stdout",
     "output_type": "stream",
     "text": [
      "⚠️ Error: type NAType doesn't define __round__ method\n"
     ]
    },
    {
     "name": "stderr",
     "output_type": "stream",
     "text": [
      " 44%|████▎     | 4824/11041 [03:21<04:13, 24.49it/s]"
     ]
    },
    {
     "name": "stdout",
     "output_type": "stream",
     "text": [
      "⚠️ Error: type NAType doesn't define __round__ method\n"
     ]
    },
    {
     "name": "stderr",
     "output_type": "stream",
     "text": [
      " 44%|████▍     | 4844/11041 [03:21<03:25, 30.18it/s]"
     ]
    },
    {
     "name": "stdout",
     "output_type": "stream",
     "text": [
      "⚠️ Error: type NAType doesn't define __round__ method\n"
     ]
    },
    {
     "name": "stderr",
     "output_type": "stream",
     "text": [
      " 44%|████▍     | 4867/11041 [03:22<03:07, 32.90it/s]"
     ]
    },
    {
     "name": "stdout",
     "output_type": "stream",
     "text": [
      "⚠️ Error: type NAType doesn't define __round__ method\n"
     ]
    },
    {
     "name": "stderr",
     "output_type": "stream",
     "text": [
      "Warning: Cannot load daily/2010/LELL0.csv.gz from https://data.meteostat.net/\n",
      "Warning: Cannot load daily/2010/08180.csv.gz from https://data.meteostat.net/\n",
      " 44%|████▍     | 4887/11041 [03:23<03:01, 33.97it/s]Warning: Cannot load daily/2010/07695.csv.gz from https://data.meteostat.net/\n",
      "Warning: Cannot load daily/2010/07688.csv.gz from https://data.meteostat.net/\n",
      " 44%|████▍     | 4909/11041 [03:23<03:12, 31.87it/s]Warning: Cannot load daily/2010/LTBX0.csv.gz from https://data.meteostat.net/\n",
      "Warning: Cannot load daily/2010/17062.csv.gz from https://data.meteostat.net/\n",
      "Warning: Cannot load daily/2010/LTBP0.csv.gz from https://data.meteostat.net/\n",
      " 45%|████▍     | 4932/11041 [03:24<03:40, 27.72it/s]"
     ]
    },
    {
     "name": "stdout",
     "output_type": "stream",
     "text": [
      "⚠️ Error: type NAType doesn't define __round__ method\n"
     ]
    },
    {
     "name": "stderr",
     "output_type": "stream",
     "text": [
      " 45%|████▌     | 4980/11041 [03:26<03:27, 29.23it/s]Warning: Cannot load daily/2010/EGTC0.csv.gz from https://data.meteostat.net/\n",
      "Warning: Cannot load daily/2010/EGTK0.csv.gz from https://data.meteostat.net/\n",
      " 46%|████▌     | 5028/11041 [03:28<03:24, 29.40it/s]"
     ]
    },
    {
     "name": "stdout",
     "output_type": "stream",
     "text": [
      "⚠️ Error: type NAType doesn't define __round__ method\n"
     ]
    },
    {
     "name": "stderr",
     "output_type": "stream",
     "text": [
      "Warning: Cannot load daily/2010/12840.csv.gz from https://data.meteostat.net/\n",
      "Warning: Cannot load daily/2010/12838.csv.gz from https://data.meteostat.net/\n",
      " 46%|████▌     | 5076/11041 [03:30<03:58, 25.02it/s]Warning: Cannot load daily/2010/16081.csv.gz from https://data.meteostat.net/\n",
      " 46%|████▌     | 5099/11041 [03:31<03:50, 25.83it/s]"
     ]
    },
    {
     "name": "stdout",
     "output_type": "stream",
     "text": [
      "⚠️ Error: type NAType doesn't define __round__ method\n"
     ]
    },
    {
     "name": "stderr",
     "output_type": "stream",
     "text": [
      "Warning: Cannot load daily/2010/48694.csv.gz from https://data.meteostat.net/\n",
      "Warning: Cannot load daily/2010/48692.csv.gz from https://data.meteostat.net/\n",
      " 46%|████▋     | 5121/11041 [03:32<04:14, 23.29it/s]"
     ]
    },
    {
     "name": "stdout",
     "output_type": "stream",
     "text": [
      "⚠️ Error: type NAType doesn't define __round__ method\n"
     ]
    },
    {
     "name": "stderr",
     "output_type": "stream",
     "text": [
      " 47%|████▋     | 5145/11041 [03:33<03:56, 24.97it/s]"
     ]
    },
    {
     "name": "stdout",
     "output_type": "stream",
     "text": [
      "⚠️ Error: type NAType doesn't define __round__ method\n"
     ]
    },
    {
     "name": "stderr",
     "output_type": "stream",
     "text": [
      "Warning: Cannot load daily/2010/47166.csv.gz from https://data.meteostat.net/\n",
      "Warning: Cannot load daily/2010/RKJM0.csv.gz from https://data.meteostat.net/\n",
      " 47%|████▋     | 5164/11041 [03:34<04:19, 22.66it/s]"
     ]
    },
    {
     "name": "stdout",
     "output_type": "stream",
     "text": [
      "⚠️ Error: type NAType doesn't define __round__ method\n"
     ]
    },
    {
     "name": "stderr",
     "output_type": "stream",
     "text": [
      "Warning: Cannot load daily/2010/83781.csv.gz from https://data.meteostat.net/\n",
      "Warning: Cannot load daily/2010/86910.csv.gz from https://data.meteostat.net/\n",
      "Warning: Cannot load daily/2010/83779.csv.gz from https://data.meteostat.net/\n",
      " 47%|████▋     | 5188/11041 [03:35<04:24, 22.13it/s]"
     ]
    },
    {
     "name": "stdout",
     "output_type": "stream",
     "text": [
      "⚠️ Error: type NAType doesn't define __round__ method\n"
     ]
    },
    {
     "name": "stderr",
     "output_type": "stream",
     "text": [
      "Warning: Cannot load daily/2010/69810.csv.gz from https://data.meteostat.net/\n",
      " 47%|████▋     | 5212/11041 [03:36<04:20, 22.39it/s]"
     ]
    },
    {
     "name": "stdout",
     "output_type": "stream",
     "text": [
      "⚠️ Error: type NAType doesn't define __round__ method\n"
     ]
    },
    {
     "name": "stderr",
     "output_type": "stream",
     "text": [
      " 47%|████▋     | 5234/11041 [03:37<04:28, 21.65it/s]"
     ]
    },
    {
     "name": "stdout",
     "output_type": "stream",
     "text": [
      "⚠️ Error: type NAType doesn't define __round__ method\n"
     ]
    },
    {
     "name": "stderr",
     "output_type": "stream",
     "text": [
      " 48%|████▊     | 5256/11041 [03:37<03:35, 26.87it/s]"
     ]
    },
    {
     "name": "stdout",
     "output_type": "stream",
     "text": [
      "⚠️ Error: type NAType doesn't define __round__ method\n"
     ]
    },
    {
     "name": "stderr",
     "output_type": "stream",
     "text": [
      " 48%|████▊     | 5280/11041 [03:38<03:24, 28.15it/s]"
     ]
    },
    {
     "name": "stdout",
     "output_type": "stream",
     "text": [
      "⚠️ Error: type NAType doesn't define __round__ method\n"
     ]
    },
    {
     "name": "stderr",
     "output_type": "stream",
     "text": [
      "Warning: Cannot load daily/2011/LTBX0.csv.gz from https://data.meteostat.net/\n",
      "Warning: Cannot load daily/2011/17062.csv.gz from https://data.meteostat.net/\n",
      "Warning: Cannot load daily/2011/LTBP0.csv.gz from https://data.meteostat.net/\n",
      " 48%|████▊     | 5304/11041 [03:39<03:44, 25.60it/s]"
     ]
    },
    {
     "name": "stdout",
     "output_type": "stream",
     "text": [
      "⚠️ Error: type NAType doesn't define __round__ method\n"
     ]
    },
    {
     "name": "stderr",
     "output_type": "stream",
     "text": [
      "Warning: Cannot load daily/2011/LELL0.csv.gz from https://data.meteostat.net/\n",
      "Warning: Cannot load daily/2011/08180.csv.gz from https://data.meteostat.net/\n",
      " 48%|████▊     | 5327/11041 [03:40<03:17, 28.93it/s]Warning: Cannot load daily/2011/07695.csv.gz from https://data.meteostat.net/\n",
      " 49%|████▉     | 5398/11041 [03:42<03:09, 29.76it/s]Warning: Cannot load daily/2011/EGTC0.csv.gz from https://data.meteostat.net/\n",
      "Warning: Cannot load daily/2011/EGTK0.csv.gz from https://data.meteostat.net/\n",
      " 49%|████▉     | 5446/11041 [03:44<03:28, 26.79it/s]Warning: Cannot load daily/2011/12840.csv.gz from https://data.meteostat.net/\n",
      "Warning: Cannot load daily/2011/12838.csv.gz from https://data.meteostat.net/\n",
      " 50%|████▉     | 5494/11041 [03:46<03:52, 23.88it/s]Warning: Cannot load daily/2011/16081.csv.gz from https://data.meteostat.net/\n",
      " 50%|████▉     | 5517/11041 [03:47<03:39, 25.22it/s]"
     ]
    },
    {
     "name": "stdout",
     "output_type": "stream",
     "text": [
      "⚠️ Error: type NAType doesn't define __round__ method\n"
     ]
    },
    {
     "name": "stderr",
     "output_type": "stream",
     "text": [
      "Warning: Cannot load daily/2011/48694.csv.gz from https://data.meteostat.net/\n",
      "Warning: Cannot load daily/2011/48692.csv.gz from https://data.meteostat.net/\n",
      " 50%|█████     | 5538/11041 [03:48<03:56, 23.31it/s]"
     ]
    },
    {
     "name": "stdout",
     "output_type": "stream",
     "text": [
      "⚠️ Error: type NAType doesn't define __round__ method\n"
     ]
    },
    {
     "name": "stderr",
     "output_type": "stream",
     "text": [
      " 50%|█████     | 5562/11041 [03:49<03:47, 24.07it/s]"
     ]
    },
    {
     "name": "stdout",
     "output_type": "stream",
     "text": [
      "⚠️ Error: type NAType doesn't define __round__ method\n"
     ]
    },
    {
     "name": "stderr",
     "output_type": "stream",
     "text": [
      "Warning: Cannot load daily/2011/47166.csv.gz from https://data.meteostat.net/\n",
      "Warning: Cannot load daily/2011/RKJM0.csv.gz from https://data.meteostat.net/\n",
      " 51%|█████     | 5586/11041 [03:50<04:01, 22.60it/s]"
     ]
    },
    {
     "name": "stdout",
     "output_type": "stream",
     "text": [
      "⚠️ Error: type NAType doesn't define __round__ method\n"
     ]
    },
    {
     "name": "stderr",
     "output_type": "stream",
     "text": [
      "Warning: Cannot load daily/2011/69810.csv.gz from https://data.meteostat.net/\n",
      " 51%|█████     | 5633/11041 [03:51<03:08, 28.68it/s]"
     ]
    },
    {
     "name": "stdout",
     "output_type": "stream",
     "text": [
      "⚠️ Error: type NAType doesn't define __round__ method\n"
     ]
    },
    {
     "name": "stderr",
     "output_type": "stream",
     "text": [
      "Warning: Cannot load daily/2011/83781.csv.gz from https://data.meteostat.net/\n",
      "Warning: Cannot load daily/2011/86910.csv.gz from https://data.meteostat.net/\n",
      "Warning: Cannot load daily/2011/83779.csv.gz from https://data.meteostat.net/\n",
      " 51%|█████     | 5657/11041 [03:52<03:20, 26.89it/s]"
     ]
    },
    {
     "name": "stdout",
     "output_type": "stream",
     "text": [
      "⚠️ Error: type NAType doesn't define __round__ method\n"
     ]
    },
    {
     "name": "stderr",
     "output_type": "stream",
     "text": [
      " 51%|█████▏    | 5681/11041 [03:53<03:27, 25.88it/s]"
     ]
    },
    {
     "name": "stdout",
     "output_type": "stream",
     "text": [
      "⚠️ Error: type NAType doesn't define __round__ method\n"
     ]
    },
    {
     "name": "stderr",
     "output_type": "stream",
     "text": [
      " 52%|█████▏    | 5702/11041 [03:54<02:55, 30.37it/s]"
     ]
    },
    {
     "name": "stdout",
     "output_type": "stream",
     "text": [
      "⚠️ Error: type NAType doesn't define __round__ method\n"
     ]
    },
    {
     "name": "stderr",
     "output_type": "stream",
     "text": [
      " 52%|█████▏    | 5726/11041 [03:54<02:41, 32.94it/s]"
     ]
    },
    {
     "name": "stdout",
     "output_type": "stream",
     "text": [
      "⚠️ Error: type NAType doesn't define __round__ method\n"
     ]
    },
    {
     "name": "stderr",
     "output_type": "stream",
     "text": [
      " 52%|█████▏    | 5750/11041 [03:55<02:13, 39.49it/s]"
     ]
    },
    {
     "name": "stdout",
     "output_type": "stream",
     "text": [
      "⚠️ Error: type NAType doesn't define __round__ method\n"
     ]
    },
    {
     "name": "stderr",
     "output_type": "stream",
     "text": [
      "Warning: Cannot load daily/2012/LELL0.csv.gz from https://data.meteostat.net/\n",
      "Warning: Cannot load daily/2012/08180.csv.gz from https://data.meteostat.net/\n",
      " 52%|█████▏    | 5774/11041 [03:55<02:12, 39.83it/s]Warning: Cannot load daily/2012/07695.csv.gz from https://data.meteostat.net/\n",
      " 53%|█████▎    | 5843/11041 [03:58<02:42, 31.95it/s]Warning: Cannot load daily/2012/EGTC0.csv.gz from https://data.meteostat.net/\n",
      "Warning: Cannot load daily/2012/EGTK0.csv.gz from https://data.meteostat.net/\n",
      " 53%|█████▎    | 5866/11041 [03:58<02:32, 33.86it/s]Warning: Cannot load daily/2012/10730.csv.gz from https://data.meteostat.net/\n",
      " 53%|█████▎    | 5889/11041 [03:59<03:01, 28.39it/s]Warning: Cannot load daily/2012/12840.csv.gz from https://data.meteostat.net/\n",
      "Warning: Cannot load daily/2012/12838.csv.gz from https://data.meteostat.net/\n",
      " 54%|█████▍    | 5937/11041 [04:02<03:26, 24.66it/s]Warning: Cannot load daily/2012/16081.csv.gz from https://data.meteostat.net/\n",
      " 54%|█████▍    | 5957/11041 [04:02<03:27, 24.49it/s]"
     ]
    },
    {
     "name": "stdout",
     "output_type": "stream",
     "text": [
      "⚠️ Error: type NAType doesn't define __round__ method\n"
     ]
    },
    {
     "name": "stderr",
     "output_type": "stream",
     "text": [
      "Warning: Cannot load daily/2012/48694.csv.gz from https://data.meteostat.net/\n",
      "Warning: Cannot load daily/2012/48692.csv.gz from https://data.meteostat.net/\n",
      " 54%|█████▍    | 5981/11041 [04:04<03:32, 23.81it/s]"
     ]
    },
    {
     "name": "stdout",
     "output_type": "stream",
     "text": [
      "⚠️ Error: type NAType doesn't define __round__ method\n"
     ]
    },
    {
     "name": "stderr",
     "output_type": "stream",
     "text": [
      " 54%|█████▍    | 6005/11041 [04:04<03:21, 25.01it/s]"
     ]
    },
    {
     "name": "stdout",
     "output_type": "stream",
     "text": [
      "⚠️ Error: type NAType doesn't define __round__ method\n"
     ]
    },
    {
     "name": "stderr",
     "output_type": "stream",
     "text": [
      "Warning: Cannot load daily/2012/47166.csv.gz from https://data.meteostat.net/\n",
      "Warning: Cannot load daily/2012/RKJM0.csv.gz from https://data.meteostat.net/\n",
      " 55%|█████▍    | 6027/11041 [04:06<03:38, 22.96it/s]"
     ]
    },
    {
     "name": "stdout",
     "output_type": "stream",
     "text": [
      "⚠️ Error: type NAType doesn't define __round__ method\n"
     ]
    },
    {
     "name": "stderr",
     "output_type": "stream",
     "text": [
      "Warning: Cannot load daily/2012/69810.csv.gz from https://data.meteostat.net/\n",
      " 55%|█████▌    | 6074/11041 [04:07<02:50, 29.13it/s]"
     ]
    },
    {
     "name": "stdout",
     "output_type": "stream",
     "text": [
      "⚠️ Error: type NAType doesn't define __round__ method\n"
     ]
    },
    {
     "name": "stderr",
     "output_type": "stream",
     "text": [
      " 55%|█████▌    | 6097/11041 [04:08<03:11, 25.81it/s]Warning: Cannot load daily/2012/83781.csv.gz from https://data.meteostat.net/\n",
      "Warning: Cannot load daily/2012/86910.csv.gz from https://data.meteostat.net/\n",
      "Warning: Cannot load daily/2012/83779.csv.gz from https://data.meteostat.net/\n",
      " 55%|█████▌    | 6121/11041 [04:09<03:16, 25.03it/s]"
     ]
    },
    {
     "name": "stdout",
     "output_type": "stream",
     "text": [
      "⚠️ Error: type NAType doesn't define __round__ method\n"
     ]
    },
    {
     "name": "stderr",
     "output_type": "stream",
     "text": [
      " 56%|█████▌    | 6143/11041 [04:10<03:28, 23.49it/s]"
     ]
    },
    {
     "name": "stdout",
     "output_type": "stream",
     "text": [
      "⚠️ Error: type NAType doesn't define __round__ method\n"
     ]
    },
    {
     "name": "stderr",
     "output_type": "stream",
     "text": [
      " 56%|█████▌    | 6164/11041 [04:10<02:53, 28.17it/s]"
     ]
    },
    {
     "name": "stdout",
     "output_type": "stream",
     "text": [
      "⚠️ Error: type NAType doesn't define __round__ method\n"
     ]
    },
    {
     "name": "stderr",
     "output_type": "stream",
     "text": [
      " 56%|█████▌    | 6186/11041 [04:11<02:38, 30.53it/s]"
     ]
    },
    {
     "name": "stdout",
     "output_type": "stream",
     "text": [
      "⚠️ Error: type NAType doesn't define __round__ method\n"
     ]
    },
    {
     "name": "stderr",
     "output_type": "stream",
     "text": [
      " 56%|█████▌    | 6208/11041 [04:11<02:13, 36.27it/s]"
     ]
    },
    {
     "name": "stdout",
     "output_type": "stream",
     "text": [
      "⚠️ Error: type NAType doesn't define __round__ method\n"
     ]
    },
    {
     "name": "stderr",
     "output_type": "stream",
     "text": [
      "Warning: Cannot load daily/2013/LELL0.csv.gz from https://data.meteostat.net/\n",
      "Warning: Cannot load daily/2013/08180.csv.gz from https://data.meteostat.net/\n",
      " 56%|█████▋    | 6230/11041 [04:12<02:08, 37.36it/s]Warning: Cannot load daily/2013/07695.csv.gz from https://data.meteostat.net/\n",
      " 57%|█████▋    | 6274/11041 [04:14<02:57, 26.90it/s]Warning: Cannot load daily/2013/EGTC0.csv.gz from https://data.meteostat.net/\n",
      "Warning: Cannot load daily/2013/EGTK0.csv.gz from https://data.meteostat.net/\n",
      " 57%|█████▋    | 6318/11041 [04:15<03:01, 26.03it/s]Warning: Cannot load daily/2013/12840.csv.gz from https://data.meteostat.net/\n",
      "Warning: Cannot load daily/2013/12838.csv.gz from https://data.meteostat.net/\n",
      " 58%|█████▊    | 6362/11041 [04:18<03:21, 23.17it/s]Warning: Cannot load daily/2013/16081.csv.gz from https://data.meteostat.net/\n",
      " 58%|█████▊    | 6384/11041 [04:18<03:22, 23.01it/s]"
     ]
    },
    {
     "name": "stdout",
     "output_type": "stream",
     "text": [
      "⚠️ Error: type NAType doesn't define __round__ method\n"
     ]
    },
    {
     "name": "stderr",
     "output_type": "stream",
     "text": [
      "Warning: Cannot load daily/2013/48694.csv.gz from https://data.meteostat.net/\n",
      "Warning: Cannot load daily/2013/48692.csv.gz from https://data.meteostat.net/\n",
      " 58%|█████▊    | 6405/11041 [04:20<03:36, 21.42it/s]"
     ]
    },
    {
     "name": "stdout",
     "output_type": "stream",
     "text": [
      "⚠️ Error: type NAType doesn't define __round__ method\n"
     ]
    },
    {
     "name": "stderr",
     "output_type": "stream",
     "text": [
      "Warning: Cannot load daily/2013/47166.csv.gz from https://data.meteostat.net/\n",
      "Warning: Cannot load daily/2013/RKJM0.csv.gz from https://data.meteostat.net/\n",
      " 58%|█████▊    | 6427/11041 [04:21<03:53, 19.73it/s]"
     ]
    },
    {
     "name": "stdout",
     "output_type": "stream",
     "text": [
      "⚠️ Error: type NAType doesn't define __round__ method\n"
     ]
    },
    {
     "name": "stderr",
     "output_type": "stream",
     "text": [
      " 58%|█████▊    | 6449/11041 [04:22<03:36, 21.26it/s]"
     ]
    },
    {
     "name": "stdout",
     "output_type": "stream",
     "text": [
      "⚠️ Error: type NAType doesn't define __round__ method\n"
     ]
    },
    {
     "name": "stderr",
     "output_type": "stream",
     "text": [
      "Warning: Cannot load daily/2013/69810.csv.gz from https://data.meteostat.net/\n",
      " 59%|█████▉    | 6491/11041 [04:23<02:50, 26.71it/s]"
     ]
    },
    {
     "name": "stdout",
     "output_type": "stream",
     "text": [
      "⚠️ Error: type NAType doesn't define __round__ method\n"
     ]
    },
    {
     "name": "stderr",
     "output_type": "stream",
     "text": [
      " 59%|█████▉    | 6512/11041 [04:24<03:08, 24.06it/s]Warning: Cannot load daily/2013/83781.csv.gz from https://data.meteostat.net/\n",
      "Warning: Cannot load daily/2013/86910.csv.gz from https://data.meteostat.net/\n",
      "Warning: Cannot load daily/2013/83779.csv.gz from https://data.meteostat.net/\n",
      " 59%|█████▉    | 6533/11041 [04:25<03:23, 22.11it/s]"
     ]
    },
    {
     "name": "stdout",
     "output_type": "stream",
     "text": [
      "⚠️ Error: type NAType doesn't define __round__ method\n"
     ]
    },
    {
     "name": "stderr",
     "output_type": "stream",
     "text": [
      " 59%|█████▉    | 6555/11041 [04:26<03:34, 20.95it/s]"
     ]
    },
    {
     "name": "stdout",
     "output_type": "stream",
     "text": [
      "⚠️ Error: type NAType doesn't define __round__ method\n"
     ]
    },
    {
     "name": "stderr",
     "output_type": "stream",
     "text": [
      " 60%|█████▉    | 6575/11041 [04:27<02:56, 25.37it/s]"
     ]
    },
    {
     "name": "stdout",
     "output_type": "stream",
     "text": [
      "⚠️ Error: type NAType doesn't define __round__ method\n"
     ]
    },
    {
     "name": "stderr",
     "output_type": "stream",
     "text": [
      " 60%|█████▉    | 6596/11041 [04:27<02:24, 30.76it/s]"
     ]
    },
    {
     "name": "stdout",
     "output_type": "stream",
     "text": [
      "⚠️ Error: type NAType doesn't define __round__ method\n"
     ]
    },
    {
     "name": "stderr",
     "output_type": "stream",
     "text": [
      " 60%|█████▉    | 6618/11041 [04:28<02:15, 32.66it/s]"
     ]
    },
    {
     "name": "stdout",
     "output_type": "stream",
     "text": [
      "⚠️ Error: type NAType doesn't define __round__ method\n"
     ]
    },
    {
     "name": "stderr",
     "output_type": "stream",
     "text": [
      "Warning: Cannot load daily/2014/LELL0.csv.gz from https://data.meteostat.net/\n",
      "Warning: Cannot load daily/2014/08180.csv.gz from https://data.meteostat.net/\n",
      " 60%|██████    | 6640/11041 [04:28<02:11, 33.59it/s]Warning: Cannot load daily/2014/07695.csv.gz from https://data.meteostat.net/\n",
      " 61%|██████    | 6682/11041 [04:30<02:51, 25.46it/s]Warning: Cannot load daily/2014/11165.csv.gz from https://data.meteostat.net/\n",
      "Warning: Cannot load daily/2014/11174.csv.gz from https://data.meteostat.net/\n",
      " 61%|██████    | 6702/11041 [04:31<02:35, 27.81it/s]Warning: Cannot load daily/2014/EGTC0.csv.gz from https://data.meteostat.net/\n",
      "Warning: Cannot load daily/2014/EGTK0.csv.gz from https://data.meteostat.net/\n",
      " 61%|██████    | 6744/11041 [04:32<02:47, 25.58it/s]Warning: Cannot load daily/2014/12840.csv.gz from https://data.meteostat.net/\n",
      "Warning: Cannot load daily/2014/12838.csv.gz from https://data.meteostat.net/\n",
      " 61%|██████▏   | 6787/11041 [04:35<03:13, 21.95it/s]Warning: Cannot load daily/2014/16081.csv.gz from https://data.meteostat.net/\n",
      " 62%|██████▏   | 6809/11041 [04:36<03:07, 22.60it/s]"
     ]
    },
    {
     "name": "stdout",
     "output_type": "stream",
     "text": [
      "⚠️ Error: type NAType doesn't define __round__ method\n"
     ]
    },
    {
     "name": "stderr",
     "output_type": "stream",
     "text": [
      "Warning: Cannot load daily/2014/48694.csv.gz from https://data.meteostat.net/\n",
      "Warning: Cannot load daily/2014/48692.csv.gz from https://data.meteostat.net/\n",
      " 62%|██████▏   | 6831/11041 [04:37<03:16, 21.39it/s]"
     ]
    },
    {
     "name": "stdout",
     "output_type": "stream",
     "text": [
      "⚠️ Error: type NAType doesn't define __round__ method\n"
     ]
    },
    {
     "name": "stderr",
     "output_type": "stream",
     "text": [
      " 62%|██████▏   | 6852/11041 [04:38<03:10, 21.94it/s]"
     ]
    },
    {
     "name": "stdout",
     "output_type": "stream",
     "text": [
      "⚠️ Error: type NAType doesn't define __round__ method\n"
     ]
    },
    {
     "name": "stderr",
     "output_type": "stream",
     "text": [
      " 62%|██████▏   | 6895/11041 [04:39<02:32, 27.22it/s]Warning: Cannot load daily/2014/83781.csv.gz from https://data.meteostat.net/\n",
      "Warning: Cannot load daily/2014/86910.csv.gz from https://data.meteostat.net/\n",
      "Warning: Cannot load daily/2014/83779.csv.gz from https://data.meteostat.net/\n",
      " 63%|██████▎   | 6912/11041 [04:40<02:52, 23.98it/s]"
     ]
    },
    {
     "name": "stdout",
     "output_type": "stream",
     "text": [
      "⚠️ Error: type NAType doesn't define __round__ method\n"
     ]
    },
    {
     "name": "stderr",
     "output_type": "stream",
     "text": [
      "Warning: Cannot load daily/2014/69810.csv.gz from https://data.meteostat.net/\n",
      " 63%|██████▎   | 6930/11041 [04:41<03:09, 21.69it/s]"
     ]
    },
    {
     "name": "stdout",
     "output_type": "stream",
     "text": [
      "⚠️ Error: type NAType doesn't define __round__ method\n"
     ]
    },
    {
     "name": "stderr",
     "output_type": "stream",
     "text": [
      " 63%|██████▎   | 6963/11041 [04:42<03:01, 22.51it/s]"
     ]
    },
    {
     "name": "stdout",
     "output_type": "stream",
     "text": [
      "⚠️ Error: type NAType doesn't define __round__ method\n"
     ]
    },
    {
     "name": "stderr",
     "output_type": "stream",
     "text": [
      " 63%|██████▎   | 6982/11041 [04:43<02:42, 24.94it/s]"
     ]
    },
    {
     "name": "stdout",
     "output_type": "stream",
     "text": [
      "⚠️ Error: type NAType doesn't define __round__ method\n"
     ]
    },
    {
     "name": "stderr",
     "output_type": "stream",
     "text": [
      " 63%|██████▎   | 7002/11041 [04:43<02:14, 30.09it/s]"
     ]
    },
    {
     "name": "stdout",
     "output_type": "stream",
     "text": [
      "⚠️ Error: type NAType doesn't define __round__ method\n"
     ]
    },
    {
     "name": "stderr",
     "output_type": "stream",
     "text": [
      "Warning: Cannot load daily/2015/LELL0.csv.gz from https://data.meteostat.net/\n",
      "Warning: Cannot load daily/2015/08180.csv.gz from https://data.meteostat.net/\n",
      " 64%|██████▎   | 7021/11041 [04:44<02:12, 30.43it/s]Warning: Cannot load daily/2015/07695.csv.gz from https://data.meteostat.net/\n",
      " 64%|██████▍   | 7061/11041 [04:46<02:51, 23.20it/s]Warning: Cannot load daily/2015/11174.csv.gz from https://data.meteostat.net/\n",
      " 64%|██████▍   | 7081/11041 [04:47<02:37, 25.20it/s]Warning: Cannot load daily/2015/EGTC0.csv.gz from https://data.meteostat.net/\n",
      "Warning: Cannot load daily/2015/EGTK0.csv.gz from https://data.meteostat.net/\n",
      " 64%|██████▍   | 7099/11041 [04:47<02:32, 25.87it/s]Warning: Cannot load daily/2015/12840.csv.gz from https://data.meteostat.net/\n",
      "Warning: Cannot load daily/2015/12838.csv.gz from https://data.meteostat.net/\n",
      " 65%|██████▍   | 7154/11041 [04:50<03:15, 19.89it/s]Warning: Cannot load daily/2015/48694.csv.gz from https://data.meteostat.net/\n",
      "Warning: Cannot load daily/2015/48692.csv.gz from https://data.meteostat.net/\n",
      " 65%|██████▍   | 7174/11041 [04:52<03:22, 19.08it/s]"
     ]
    },
    {
     "name": "stdout",
     "output_type": "stream",
     "text": [
      "⚠️ Error: type NAType doesn't define __round__ method\n"
     ]
    },
    {
     "name": "stderr",
     "output_type": "stream",
     "text": [
      " 65%|██████▌   | 7194/11041 [04:52<03:11, 20.10it/s]"
     ]
    },
    {
     "name": "stdout",
     "output_type": "stream",
     "text": [
      "⚠️ Error: type NAType doesn't define __round__ method\n"
     ]
    },
    {
     "name": "stderr",
     "output_type": "stream",
     "text": [
      " 66%|██████▌   | 7232/11041 [04:54<02:39, 23.82it/s]Warning: Cannot load daily/2015/76679.csv.gz from https://data.meteostat.net/\n",
      "Warning: Cannot load daily/2015/76680.csv.gz from https://data.meteostat.net/\n",
      " 66%|██████▌   | 7252/11041 [04:55<02:36, 24.14it/s]Warning: Cannot load daily/2015/83781.csv.gz from https://data.meteostat.net/\n",
      "Warning: Cannot load daily/2015/86910.csv.gz from https://data.meteostat.net/\n",
      " 66%|██████▌   | 7272/11041 [04:56<03:04, 20.38it/s]Warning: Cannot load daily/2015/69810.csv.gz from https://data.meteostat.net/\n",
      "Warning: Cannot load daily/2015/OMAM0.csv.gz from https://data.meteostat.net/\n",
      " 67%|██████▋   | 7351/11041 [05:00<02:33, 24.01it/s]Warning: Cannot load daily/2016/08180.csv.gz from https://data.meteostat.net/\n",
      " 67%|██████▋   | 7392/11041 [05:00<01:50, 33.05it/s]Warning: Cannot load daily/2016/07695.csv.gz from https://data.meteostat.net/\n",
      " 67%|██████▋   | 7434/11041 [05:02<02:25, 24.71it/s]Warning: Cannot load daily/2016/37850.csv.gz from https://data.meteostat.net/\n",
      "Warning: Cannot load daily/2016/37860.csv.gz from https://data.meteostat.net/\n",
      "Warning: Cannot load daily/2016/37769.csv.gz from https://data.meteostat.net/\n",
      " 68%|██████▊   | 7456/11041 [05:04<02:38, 22.67it/s]"
     ]
    },
    {
     "name": "stdout",
     "output_type": "stream",
     "text": [
      "⚠️ Error: type NAType doesn't define __round__ method\n"
     ]
    },
    {
     "name": "stderr",
     "output_type": "stream",
     "text": [
      "Warning: Cannot load daily/2016/11174.csv.gz from https://data.meteostat.net/\n",
      " 68%|██████▊   | 7478/11041 [05:04<02:24, 24.72it/s]"
     ]
    },
    {
     "name": "stdout",
     "output_type": "stream",
     "text": [
      "⚠️ Error: type NAType doesn't define __round__ method\n"
     ]
    },
    {
     "name": "stderr",
     "output_type": "stream",
     "text": [
      "Warning: Cannot load daily/2016/EGTC0.csv.gz from https://data.meteostat.net/\n",
      "Warning: Cannot load daily/2016/EGTK0.csv.gz from https://data.meteostat.net/\n",
      " 68%|██████▊   | 7500/11041 [05:05<02:10, 27.15it/s]Warning: Cannot load daily/2016/12840.csv.gz from https://data.meteostat.net/\n",
      "Warning: Cannot load daily/2016/12838.csv.gz from https://data.meteostat.net/\n",
      " 69%|██████▊   | 7587/11041 [05:13<04:04, 14.12it/s]Warning: Cannot load daily/2016/48694.csv.gz from https://data.meteostat.net/\n",
      "Warning: Cannot load daily/2016/48692.csv.gz from https://data.meteostat.net/\n",
      " 69%|██████▉   | 7609/11041 [05:14<03:54, 14.65it/s]"
     ]
    },
    {
     "name": "stdout",
     "output_type": "stream",
     "text": [
      "⚠️ Error: type NAType doesn't define __round__ method\n"
     ]
    },
    {
     "name": "stderr",
     "output_type": "stream",
     "text": [
      " 69%|██████▉   | 7650/11041 [05:16<03:00, 18.82it/s]"
     ]
    },
    {
     "name": "stdout",
     "output_type": "stream",
     "text": [
      "⚠️ Error: type NAType doesn't define __round__ method\n"
     ]
    },
    {
     "name": "stderr",
     "output_type": "stream",
     "text": [
      " 69%|██████▉   | 7672/11041 [05:17<03:03, 18.36it/s]Warning: Cannot load daily/2016/76679.csv.gz from https://data.meteostat.net/\n",
      "Warning: Cannot load daily/2016/76680.csv.gz from https://data.meteostat.net/\n",
      " 70%|██████▉   | 7694/11041 [05:18<02:52, 19.39it/s]Warning: Cannot load daily/2016/83781.csv.gz from https://data.meteostat.net/\n",
      " 70%|██████▉   | 7715/11041 [05:19<02:58, 18.66it/s]Warning: Cannot load daily/2016/69810.csv.gz from https://data.meteostat.net/\n",
      "Warning: Cannot load daily/2016/OMAM0.csv.gz from https://data.meteostat.net/\n",
      " 71%|███████   | 7797/11041 [05:24<02:34, 21.03it/s]Warning: Cannot load daily/2017/08180.csv.gz from https://data.meteostat.net/\n",
      " 71%|███████   | 7833/11041 [05:24<01:55, 27.82it/s]"
     ]
    },
    {
     "name": "stdout",
     "output_type": "stream",
     "text": [
      "⚠️ Error: type NAType doesn't define __round__ method\n"
     ]
    },
    {
     "name": "stderr",
     "output_type": "stream",
     "text": [
      "Warning: Cannot load daily/2017/07695.csv.gz from https://data.meteostat.net/\n",
      " 71%|███████▏  | 7872/11041 [05:27<02:34, 20.58it/s]Warning: Cannot load daily/2017/37850.csv.gz from https://data.meteostat.net/\n",
      "Warning: Cannot load daily/2017/37860.csv.gz from https://data.meteostat.net/\n",
      "Warning: Cannot load daily/2017/37769.csv.gz from https://data.meteostat.net/\n",
      " 71%|███████▏  | 7890/11041 [05:28<02:49, 18.58it/s]"
     ]
    },
    {
     "name": "stdout",
     "output_type": "stream",
     "text": [
      "⚠️ Error: type NAType doesn't define __round__ method\n"
     ]
    },
    {
     "name": "stderr",
     "output_type": "stream",
     "text": [
      "Warning: Cannot load daily/2017/11174.csv.gz from https://data.meteostat.net/\n",
      " 72%|███████▏  | 7910/11041 [05:29<02:30, 20.87it/s]Warning: Cannot load daily/2017/EGTC0.csv.gz from https://data.meteostat.net/\n",
      "Warning: Cannot load daily/2017/EGTK0.csv.gz from https://data.meteostat.net/\n",
      " 72%|███████▏  | 7929/11041 [05:29<02:15, 22.89it/s]Warning: Cannot load daily/2017/12840.csv.gz from https://data.meteostat.net/\n",
      "Warning: Cannot load daily/2017/12838.csv.gz from https://data.meteostat.net/\n",
      " 73%|███████▎  | 8042/11041 [05:36<02:27, 20.28it/s]"
     ]
    },
    {
     "name": "stdout",
     "output_type": "stream",
     "text": [
      "⚠️ Error: type NAType doesn't define __round__ method\n"
     ]
    },
    {
     "name": "stderr",
     "output_type": "stream",
     "text": [
      " 73%|███████▎  | 8061/11041 [05:37<02:43, 18.25it/s]Warning: Cannot load daily/2017/76680.csv.gz from https://data.meteostat.net/\n",
      " 73%|███████▎  | 8081/11041 [05:38<02:38, 18.68it/s]"
     ]
    },
    {
     "name": "stdout",
     "output_type": "stream",
     "text": [
      "⚠️ Error: type NAType doesn't define __round__ method\n"
     ]
    },
    {
     "name": "stderr",
     "output_type": "stream",
     "text": [
      "Warning: Cannot load daily/2017/83781.csv.gz from https://data.meteostat.net/\n",
      "Warning: Cannot load daily/2017/83779.csv.gz from https://data.meteostat.net/\n",
      " 73%|███████▎  | 8101/11041 [05:39<02:44, 17.83it/s]Warning: Cannot load daily/2017/69810.csv.gz from https://data.meteostat.net/\n",
      "Warning: Cannot load daily/2017/OMAM0.csv.gz from https://data.meteostat.net/\n",
      " 74%|███████▍  | 8178/11041 [05:43<02:05, 22.83it/s]Warning: Cannot load daily/2018/37850.csv.gz from https://data.meteostat.net/\n",
      "Warning: Cannot load daily/2018/37860.csv.gz from https://data.meteostat.net/\n",
      "Warning: Cannot load daily/2018/37769.csv.gz from https://data.meteostat.net/\n",
      " 74%|███████▍  | 8198/11041 [05:44<02:16, 20.84it/s]Warning: Cannot load daily/2018/08180.csv.gz from https://data.meteostat.net/\n",
      " 74%|███████▍  | 8216/11041 [05:44<02:06, 22.41it/s]"
     ]
    },
    {
     "name": "stdout",
     "output_type": "stream",
     "text": [
      "⚠️ Error: type NAType doesn't define __round__ method\n"
     ]
    },
    {
     "name": "stderr",
     "output_type": "stream",
     "text": [
      " 75%|███████▌  | 8289/11041 [05:48<02:15, 20.30it/s]"
     ]
    },
    {
     "name": "stdout",
     "output_type": "stream",
     "text": [
      "⚠️ Error: type NAType doesn't define __round__ method\n"
     ]
    },
    {
     "name": "stderr",
     "output_type": "stream",
     "text": [
      "Warning: Cannot load daily/2018/EGTC0.csv.gz from https://data.meteostat.net/\n",
      "Warning: Cannot load daily/2018/EGTK0.csv.gz from https://data.meteostat.net/\n",
      " 75%|███████▌  | 8329/11041 [05:50<02:16, 19.94it/s]Warning: Cannot load daily/2018/12838.csv.gz from https://data.meteostat.net/\n",
      " 76%|███████▋  | 8443/11041 [05:56<01:56, 22.38it/s]"
     ]
    },
    {
     "name": "stdout",
     "output_type": "stream",
     "text": [
      "⚠️ Error: type NAType doesn't define __round__ method\n"
     ]
    },
    {
     "name": "stderr",
     "output_type": "stream",
     "text": [
      " 77%|███████▋  | 8483/11041 [05:58<02:05, 20.35it/s]Warning: Cannot load daily/2018/83781.csv.gz from https://data.meteostat.net/\n",
      " 77%|███████▋  | 8503/11041 [06:00<02:13, 18.95it/s]Warning: Cannot load daily/2018/69810.csv.gz from https://data.meteostat.net/\n",
      "Warning: Cannot load daily/2018/OMAM0.csv.gz from https://data.meteostat.net/\n",
      " 77%|███████▋  | 8523/11041 [06:01<02:18, 18.15it/s]Warning: Cannot load daily/2019/95873.csv.gz from https://data.meteostat.net/\n",
      " 78%|███████▊  | 8582/11041 [06:03<01:41, 24.28it/s]Warning: Cannot load daily/2019/37850.csv.gz from https://data.meteostat.net/\n",
      "Warning: Cannot load daily/2019/37860.csv.gz from https://data.meteostat.net/\n",
      "Warning: Cannot load daily/2019/37769.csv.gz from https://data.meteostat.net/\n",
      " 78%|███████▊  | 8602/11041 [06:04<01:55, 21.13it/s]Warning: Cannot load daily/2019/08180.csv.gz from https://data.meteostat.net/\n",
      " 78%|███████▊  | 8622/11041 [06:05<01:45, 23.01it/s]"
     ]
    },
    {
     "name": "stdout",
     "output_type": "stream",
     "text": [
      "⚠️ Error: type NAType doesn't define __round__ method\n"
     ]
    },
    {
     "name": "stderr",
     "output_type": "stream",
     "text": [
      " 79%|███████▉  | 8702/11041 [06:09<01:48, 21.47it/s]Warning: Cannot load daily/2019/EGTC0.csv.gz from https://data.meteostat.net/\n",
      "Warning: Cannot load daily/2019/EGTK0.csv.gz from https://data.meteostat.net/\n",
      " 79%|███████▉  | 8742/11041 [06:11<01:49, 20.96it/s]Warning: Cannot load daily/2019/12838.csv.gz from https://data.meteostat.net/\n",
      " 80%|███████▉  | 8782/11041 [06:13<02:06, 17.90it/s]Warning: Cannot load daily/2019/16081.csv.gz from https://data.meteostat.net/\n",
      " 80%|████████  | 8860/11041 [06:16<01:30, 24.19it/s]"
     ]
    },
    {
     "name": "stdout",
     "output_type": "stream",
     "text": [
      "⚠️ Error: type NAType doesn't define __round__ method\n"
     ]
    },
    {
     "name": "stderr",
     "output_type": "stream",
     "text": [
      " 81%|████████  | 8900/11041 [06:18<01:39, 21.54it/s]Warning: Cannot load daily/2019/83781.csv.gz from https://data.meteostat.net/\n",
      " 81%|████████  | 8920/11041 [06:20<01:45, 20.03it/s]Warning: Cannot load daily/2019/69810.csv.gz from https://data.meteostat.net/\n",
      " 81%|████████▏ | 8980/11041 [06:22<01:14, 27.53it/s]"
     ]
    },
    {
     "name": "stdout",
     "output_type": "stream",
     "text": [
      "⚠️ Error: type NAType doesn't define __round__ method\n"
     ]
    },
    {
     "name": "stderr",
     "output_type": "stream",
     "text": [
      "Warning: Cannot load daily/2020/12838.csv.gz from https://data.meteostat.net/\n",
      " 82%|████████▏ | 9000/11041 [06:23<01:26, 23.49it/s]Warning: Cannot load daily/2020/EGTC0.csv.gz from https://data.meteostat.net/\n",
      "Warning: Cannot load daily/2020/EGTK0.csv.gz from https://data.meteostat.net/\n",
      " 82%|████████▏ | 9020/11041 [06:24<01:18, 25.65it/s]Warning: Cannot load daily/2020/08180.csv.gz from https://data.meteostat.net/\n",
      " 82%|████████▏ | 9079/11041 [06:26<01:14, 26.24it/s]Warning: Cannot load daily/2020/16081.csv.gz from https://data.meteostat.net/\n",
      " 83%|████████▎ | 9194/11041 [06:28<00:44, 41.64it/s]Warning: Cannot load daily/2020/LTBX0.csv.gz from https://data.meteostat.net/\n",
      "Warning: Cannot load daily/2020/17062.csv.gz from https://data.meteostat.net/\n",
      " 84%|████████▍ | 9253/11041 [06:30<00:41, 42.84it/s]Warning: Cannot load daily/2020/OMAM0.csv.gz from https://data.meteostat.net/\n",
      " 85%|████████▍ | 9330/11041 [06:33<00:52, 32.48it/s]Warning: Cannot load daily/2021/08180.csv.gz from https://data.meteostat.net/\n",
      " 85%|████████▌ | 9389/11041 [06:35<00:49, 33.54it/s]Warning: Cannot load daily/2021/37850.csv.gz from https://data.meteostat.net/\n",
      "Warning: Cannot load daily/2021/37860.csv.gz from https://data.meteostat.net/\n",
      "Warning: Cannot load daily/2021/37769.csv.gz from https://data.meteostat.net/\n",
      " 86%|████████▌ | 9487/11041 [06:38<00:46, 33.48it/s]Warning: Cannot load daily/2021/12838.csv.gz from https://data.meteostat.net/\n",
      " 87%|████████▋ | 9562/11041 [06:42<01:14, 19.85it/s]Warning: Cannot load daily/2021/17062.csv.gz from https://data.meteostat.net/\n",
      " 87%|████████▋ | 9641/11041 [06:46<01:05, 21.35it/s]Warning: Cannot load daily/2021/83781.csv.gz from https://data.meteostat.net/\n",
      " 87%|████████▋ | 9659/11041 [06:47<01:10, 19.49it/s]Warning: Cannot load daily/2021/41026.csv.gz from https://data.meteostat.net/\n",
      " 88%|████████▊ | 9718/11041 [06:49<00:56, 23.43it/s]Warning: Cannot load daily/2022/41026.csv.gz from https://data.meteostat.net/\n",
      " 89%|████████▊ | 9795/11041 [06:54<01:16, 16.19it/s]Warning: Cannot load daily/2022/08180.csv.gz from https://data.meteostat.net/\n",
      " 89%|████████▉ | 9835/11041 [06:56<01:00, 19.94it/s]Warning: Cannot load daily/2022/37850.csv.gz from https://data.meteostat.net/\n",
      "Warning: Cannot load daily/2022/37860.csv.gz from https://data.meteostat.net/\n",
      "Warning: Cannot load daily/2022/37769.csv.gz from https://data.meteostat.net/\n",
      " 90%|████████▉ | 9932/11041 [07:00<00:47, 23.14it/s]Warning: Cannot load daily/2022/12838.csv.gz from https://data.meteostat.net/\n",
      " 90%|█████████ | 9952/11041 [07:01<00:52, 20.86it/s]Warning: Cannot load daily/2022/99870.csv.gz from https://data.meteostat.net/\n",
      " 90%|█████████ | 9991/11041 [07:04<00:57, 18.25it/s]Warning: Cannot load daily/2022/16081.csv.gz from https://data.meteostat.net/\n",
      " 91%|█████████▏| 10089/11041 [07:08<00:47, 19.97it/s]Warning: Cannot load daily/2022/83781.csv.gz from https://data.meteostat.net/\n",
      " 92%|█████████▏| 10147/11041 [07:11<00:38, 23.31it/s]Warning: Cannot load daily/2023/41026.csv.gz from https://data.meteostat.net/\n",
      " 92%|█████████▏| 10187/11041 [07:13<00:40, 20.91it/s]Warning: Cannot load daily/2023/37850.csv.gz from https://data.meteostat.net/\n",
      "Warning: Cannot load daily/2023/37860.csv.gz from https://data.meteostat.net/\n",
      "Warning: Cannot load daily/2023/37769.csv.gz from https://data.meteostat.net/\n",
      " 93%|█████████▎| 10246/11041 [07:16<00:39, 20.34it/s]Warning: Cannot load daily/2023/08180.csv.gz from https://data.meteostat.net/\n",
      " 94%|█████████▎| 10326/11041 [07:19<00:28, 25.15it/s]Warning: Cannot load daily/2023/12838.csv.gz from https://data.meteostat.net/\n",
      " 94%|█████████▎| 10346/11041 [07:20<00:33, 20.99it/s]Warning: Cannot load daily/2023/99870.csv.gz from https://data.meteostat.net/\n",
      " 94%|█████████▍| 10385/11041 [07:23<00:34, 18.91it/s]Warning: Cannot load daily/2023/16081.csv.gz from https://data.meteostat.net/\n",
      " 95%|█████████▍| 10442/11041 [07:26<00:32, 18.59it/s]Warning: Cannot load daily/2023/41161.csv.gz from https://data.meteostat.net/\n",
      "Warning: Cannot load daily/2023/41168.csv.gz from https://data.meteostat.net/\n",
      " 95%|█████████▌| 10500/11041 [07:29<00:27, 19.53it/s]Warning: Cannot load daily/2023/83781.csv.gz from https://data.meteostat.net/\n",
      " 96%|█████████▌| 10577/11041 [07:33<00:21, 22.08it/s]Warning: Cannot load daily/2024/41026.csv.gz from https://data.meteostat.net/\n",
      " 97%|█████████▋| 10714/11041 [07:39<00:13, 24.64it/s]Warning: Cannot load daily/2024/CWCS0.csv.gz from https://data.meteostat.net/\n",
      "Warning: Cannot load daily/2024/CWVZ0.csv.gz from https://data.meteostat.net/\n",
      " 97%|█████████▋| 10730/11041 [07:40<00:15, 20.28it/s]Warning: Cannot load daily/2024/08180.csv.gz from https://data.meteostat.net/\n",
      " 98%|█████████▊| 10790/11041 [07:42<00:09, 27.84it/s]Warning: Cannot load daily/2024/12838.csv.gz from https://data.meteostat.net/\n",
      " 98%|█████████▊| 10809/11041 [07:43<00:10, 22.67it/s]Warning: Cannot load daily/2024/99870.csv.gz from https://data.meteostat.net/\n",
      " 98%|█████████▊| 10849/11041 [07:45<00:10, 18.78it/s]Warning: Cannot load daily/2024/16081.csv.gz from https://data.meteostat.net/\n",
      " 98%|█████████▊| 10869/11041 [07:46<00:08, 19.80it/s]Warning: Cannot load daily/2024/37850.csv.gz from https://data.meteostat.net/\n",
      "Warning: Cannot load daily/2024/37860.csv.gz from https://data.meteostat.net/\n",
      "Warning: Cannot load daily/2024/37769.csv.gz from https://data.meteostat.net/\n",
      " 99%|█████████▉| 10949/11041 [07:50<00:04, 19.50it/s]Warning: Cannot load daily/2024/83781.csv.gz from https://data.meteostat.net/\n",
      " 99%|█████████▉| 10985/11041 [07:53<00:03, 17.62it/s]Warning: Cannot load daily/2024/41161.csv.gz from https://data.meteostat.net/\n",
      "Warning: Cannot load daily/2024/41168.csv.gz from https://data.meteostat.net/\n",
      "100%|█████████▉| 11005/11041 [07:54<00:02, 17.50it/s]Warning: Cannot load daily/2024/OMAM0.csv.gz from https://data.meteostat.net/\n",
      "100%|██████████| 11041/11041 [07:55<00:00, 23.22it/s]\n"
     ]
    },
    {
     "data": {
      "text/html": [
       "<div>\n",
       "<style scoped>\n",
       "    .dataframe tbody tr th:only-of-type {\n",
       "        vertical-align: middle;\n",
       "    }\n",
       "\n",
       "    .dataframe tbody tr th {\n",
       "        vertical-align: top;\n",
       "    }\n",
       "\n",
       "    .dataframe thead th {\n",
       "        text-align: right;\n",
       "    }\n",
       "</style>\n",
       "<table border=\"1\" class=\"dataframe\">\n",
       "  <thead>\n",
       "    <tr style=\"text-align: right;\">\n",
       "      <th></th>\n",
       "      <th>raceId</th>\n",
       "      <th>driverId</th>\n",
       "      <th>bestLap_ms</th>\n",
       "      <th>bestLaps_s</th>\n",
       "      <th>drivers_name</th>\n",
       "      <th>year</th>\n",
       "      <th>round</th>\n",
       "      <th>circuitId</th>\n",
       "      <th>gp_name</th>\n",
       "      <th>date</th>\n",
       "      <th>...</th>\n",
       "      <th>country</th>\n",
       "      <th>lat</th>\n",
       "      <th>lng</th>\n",
       "      <th>alt</th>\n",
       "      <th>qual_pos</th>\n",
       "      <th>qual_best_s</th>\n",
       "      <th>temp_c</th>\n",
       "      <th>rain_mm</th>\n",
       "      <th>wind_mps</th>\n",
       "      <th>pressure_hpa</th>\n",
       "    </tr>\n",
       "  </thead>\n",
       "  <tbody>\n",
       "    <tr>\n",
       "      <th>2689</th>\n",
       "      <td>137</td>\n",
       "      <td>11</td>\n",
       "      <td>110886</td>\n",
       "      <td>110.886</td>\n",
       "      <td>Takuma Sato</td>\n",
       "      <td>2002</td>\n",
       "      <td>14</td>\n",
       "      <td>13</td>\n",
       "      <td>Belgian Grand Prix</td>\n",
       "      <td>2002-09-01</td>\n",
       "      <td>...</td>\n",
       "      <td>Belgium</td>\n",
       "      <td>50.4372</td>\n",
       "      <td>5.97139</td>\n",
       "      <td>401</td>\n",
       "      <td>NaN</td>\n",
       "      <td>NaN</td>\n",
       "      <td>NaN</td>\n",
       "      <td>NaN</td>\n",
       "      <td>NaN</td>\n",
       "      <td>NaN</td>\n",
       "    </tr>\n",
       "    <tr>\n",
       "      <th>7964</th>\n",
       "      <td>979</td>\n",
       "      <td>840</td>\n",
       "      <td>82830</td>\n",
       "      <td>82.830</td>\n",
       "      <td>Lance Stroll</td>\n",
       "      <td>2017</td>\n",
       "      <td>11</td>\n",
       "      <td>11</td>\n",
       "      <td>Hungarian Grand Prix</td>\n",
       "      <td>2017-07-30</td>\n",
       "      <td>...</td>\n",
       "      <td>Hungary</td>\n",
       "      <td>47.5789</td>\n",
       "      <td>19.24860</td>\n",
       "      <td>264</td>\n",
       "      <td>17.0</td>\n",
       "      <td>79.102</td>\n",
       "      <td>24.53</td>\n",
       "      <td>0.0</td>\n",
       "      <td>7.97</td>\n",
       "      <td>1017.00</td>\n",
       "    </tr>\n",
       "    <tr>\n",
       "      <th>3888</th>\n",
       "      <td>194</td>\n",
       "      <td>75</td>\n",
       "      <td>93889</td>\n",
       "      <td>93.889</td>\n",
       "      <td>Shinji Nakano</td>\n",
       "      <td>1998</td>\n",
       "      <td>4</td>\n",
       "      <td>21</td>\n",
       "      <td>San Marino Grand Prix</td>\n",
       "      <td>1998-04-26</td>\n",
       "      <td>...</td>\n",
       "      <td>Italy</td>\n",
       "      <td>44.3439</td>\n",
       "      <td>11.71670</td>\n",
       "      <td>37</td>\n",
       "      <td>NaN</td>\n",
       "      <td>NaN</td>\n",
       "      <td>NaN</td>\n",
       "      <td>NaN</td>\n",
       "      <td>NaN</td>\n",
       "      <td>NaN</td>\n",
       "    </tr>\n",
       "    <tr>\n",
       "      <th>4625</th>\n",
       "      <td>231</td>\n",
       "      <td>14</td>\n",
       "      <td>82941</td>\n",
       "      <td>82.941</td>\n",
       "      <td>David Coulthard</td>\n",
       "      <td>1996</td>\n",
       "      <td>8</td>\n",
       "      <td>7</td>\n",
       "      <td>Canadian Grand Prix</td>\n",
       "      <td>1996-06-16</td>\n",
       "      <td>...</td>\n",
       "      <td>Canada</td>\n",
       "      <td>45.5000</td>\n",
       "      <td>-73.52280</td>\n",
       "      <td>13</td>\n",
       "      <td>NaN</td>\n",
       "      <td>NaN</td>\n",
       "      <td>20.70</td>\n",
       "      <td>0.0</td>\n",
       "      <td>6.43</td>\n",
       "      <td>1014.40</td>\n",
       "    </tr>\n",
       "    <tr>\n",
       "      <th>2488</th>\n",
       "      <td>127</td>\n",
       "      <td>15</td>\n",
       "      <td>86354</td>\n",
       "      <td>86.354</td>\n",
       "      <td>Jarno Trulli</td>\n",
       "      <td>2002</td>\n",
       "      <td>4</td>\n",
       "      <td>21</td>\n",
       "      <td>San Marino Grand Prix</td>\n",
       "      <td>2002-04-14</td>\n",
       "      <td>...</td>\n",
       "      <td>Italy</td>\n",
       "      <td>44.3439</td>\n",
       "      <td>11.71670</td>\n",
       "      <td>37</td>\n",
       "      <td>NaN</td>\n",
       "      <td>NaN</td>\n",
       "      <td>NaN</td>\n",
       "      <td>NaN</td>\n",
       "      <td>NaN</td>\n",
       "      <td>NaN</td>\n",
       "    </tr>\n",
       "    <tr>\n",
       "      <th>5964</th>\n",
       "      <td>872</td>\n",
       "      <td>18</td>\n",
       "      <td>88926</td>\n",
       "      <td>88.926</td>\n",
       "      <td>Jenson Button</td>\n",
       "      <td>2012</td>\n",
       "      <td>13</td>\n",
       "      <td>14</td>\n",
       "      <td>Italian Grand Prix</td>\n",
       "      <td>2012-09-09</td>\n",
       "      <td>...</td>\n",
       "      <td>Italy</td>\n",
       "      <td>45.6156</td>\n",
       "      <td>9.28111</td>\n",
       "      <td>162</td>\n",
       "      <td>2.0</td>\n",
       "      <td>84.133</td>\n",
       "      <td>NaN</td>\n",
       "      <td>NaN</td>\n",
       "      <td>NaN</td>\n",
       "      <td>NaN</td>\n",
       "    </tr>\n",
       "    <tr>\n",
       "      <th>8463</th>\n",
       "      <td>1006</td>\n",
       "      <td>4</td>\n",
       "      <td>133811</td>\n",
       "      <td>133.811</td>\n",
       "      <td>Fernando Alonso</td>\n",
       "      <td>2018</td>\n",
       "      <td>18</td>\n",
       "      <td>69</td>\n",
       "      <td>United States Grand Prix</td>\n",
       "      <td>2018-10-21</td>\n",
       "      <td>...</td>\n",
       "      <td>USA</td>\n",
       "      <td>30.1328</td>\n",
       "      <td>-97.64110</td>\n",
       "      <td>161</td>\n",
       "      <td>16.0</td>\n",
       "      <td>95.294</td>\n",
       "      <td>17.20</td>\n",
       "      <td>0.5</td>\n",
       "      <td>13.30</td>\n",
       "      <td>1022.37</td>\n",
       "    </tr>\n",
       "    <tr>\n",
       "      <th>10254</th>\n",
       "      <td>1104</td>\n",
       "      <td>840</td>\n",
       "      <td>77769</td>\n",
       "      <td>77.769</td>\n",
       "      <td>Lance Stroll</td>\n",
       "      <td>2023</td>\n",
       "      <td>6</td>\n",
       "      <td>6</td>\n",
       "      <td>Monaco Grand Prix</td>\n",
       "      <td>2023-05-28</td>\n",
       "      <td>...</td>\n",
       "      <td>Monaco</td>\n",
       "      <td>43.7347</td>\n",
       "      <td>7.42056</td>\n",
       "      <td>7</td>\n",
       "      <td>14.0</td>\n",
       "      <td>72.623</td>\n",
       "      <td>19.63</td>\n",
       "      <td>0.0</td>\n",
       "      <td>9.47</td>\n",
       "      <td>1015.63</td>\n",
       "    </tr>\n",
       "    <tr>\n",
       "      <th>7319</th>\n",
       "      <td>948</td>\n",
       "      <td>817</td>\n",
       "      <td>88997</td>\n",
       "      <td>88.997</td>\n",
       "      <td>Daniel Ricciardo</td>\n",
       "      <td>2016</td>\n",
       "      <td>1</td>\n",
       "      <td>1</td>\n",
       "      <td>Australian Grand Prix</td>\n",
       "      <td>2016-03-20</td>\n",
       "      <td>...</td>\n",
       "      <td>Australia</td>\n",
       "      <td>-37.8497</td>\n",
       "      <td>144.96800</td>\n",
       "      <td>10</td>\n",
       "      <td>8.0</td>\n",
       "      <td>85.589</td>\n",
       "      <td>16.20</td>\n",
       "      <td>8.1</td>\n",
       "      <td>18.03</td>\n",
       "      <td>1018.43</td>\n",
       "    </tr>\n",
       "    <tr>\n",
       "      <th>6678</th>\n",
       "      <td>905</td>\n",
       "      <td>825</td>\n",
       "      <td>80657</td>\n",
       "      <td>80.657</td>\n",
       "      <td>Kevin Magnussen</td>\n",
       "      <td>2014</td>\n",
       "      <td>6</td>\n",
       "      <td>6</td>\n",
       "      <td>Monaco Grand Prix</td>\n",
       "      <td>2014-05-25</td>\n",
       "      <td>...</td>\n",
       "      <td>Monaco</td>\n",
       "      <td>43.7347</td>\n",
       "      <td>7.42056</td>\n",
       "      <td>7</td>\n",
       "      <td>8.0</td>\n",
       "      <td>77.555</td>\n",
       "      <td>17.93</td>\n",
       "      <td>0.3</td>\n",
       "      <td>11.33</td>\n",
       "      <td>1016.03</td>\n",
       "    </tr>\n",
       "  </tbody>\n",
       "</table>\n",
       "<p>10 rows × 21 columns</p>\n",
       "</div>"
      ],
      "text/plain": [
       "       raceId  driverId  bestLap_ms  bestLaps_s      drivers_name  year  \\\n",
       "2689      137        11      110886     110.886       Takuma Sato  2002   \n",
       "7964      979       840       82830      82.830      Lance Stroll  2017   \n",
       "3888      194        75       93889      93.889     Shinji Nakano  1998   \n",
       "4625      231        14       82941      82.941   David Coulthard  1996   \n",
       "2488      127        15       86354      86.354      Jarno Trulli  2002   \n",
       "5964      872        18       88926      88.926     Jenson Button  2012   \n",
       "8463     1006         4      133811     133.811   Fernando Alonso  2018   \n",
       "10254    1104       840       77769      77.769      Lance Stroll  2023   \n",
       "7319      948       817       88997      88.997  Daniel Ricciardo  2016   \n",
       "6678      905       825       80657      80.657   Kevin Magnussen  2014   \n",
       "\n",
       "       round  circuitId                   gp_name        date  ...    country  \\\n",
       "2689      14         13        Belgian Grand Prix  2002-09-01  ...    Belgium   \n",
       "7964      11         11      Hungarian Grand Prix  2017-07-30  ...    Hungary   \n",
       "3888       4         21     San Marino Grand Prix  1998-04-26  ...      Italy   \n",
       "4625       8          7       Canadian Grand Prix  1996-06-16  ...     Canada   \n",
       "2488       4         21     San Marino Grand Prix  2002-04-14  ...      Italy   \n",
       "5964      13         14        Italian Grand Prix  2012-09-09  ...      Italy   \n",
       "8463      18         69  United States Grand Prix  2018-10-21  ...        USA   \n",
       "10254      6          6         Monaco Grand Prix  2023-05-28  ...     Monaco   \n",
       "7319       1          1     Australian Grand Prix  2016-03-20  ...  Australia   \n",
       "6678       6          6         Monaco Grand Prix  2014-05-25  ...     Monaco   \n",
       "\n",
       "           lat        lng  alt  qual_pos  qual_best_s  temp_c  rain_mm  \\\n",
       "2689   50.4372    5.97139  401       NaN          NaN     NaN      NaN   \n",
       "7964   47.5789   19.24860  264      17.0       79.102   24.53      0.0   \n",
       "3888   44.3439   11.71670   37       NaN          NaN     NaN      NaN   \n",
       "4625   45.5000  -73.52280   13       NaN          NaN   20.70      0.0   \n",
       "2488   44.3439   11.71670   37       NaN          NaN     NaN      NaN   \n",
       "5964   45.6156    9.28111  162       2.0       84.133     NaN      NaN   \n",
       "8463   30.1328  -97.64110  161      16.0       95.294   17.20      0.5   \n",
       "10254  43.7347    7.42056    7      14.0       72.623   19.63      0.0   \n",
       "7319  -37.8497  144.96800   10       8.0       85.589   16.20      8.1   \n",
       "6678   43.7347    7.42056    7       8.0       77.555   17.93      0.3   \n",
       "\n",
       "       wind_mps  pressure_hpa  \n",
       "2689        NaN           NaN  \n",
       "7964       7.97       1017.00  \n",
       "3888        NaN           NaN  \n",
       "4625       6.43       1014.40  \n",
       "2488        NaN           NaN  \n",
       "5964        NaN           NaN  \n",
       "8463      13.30       1022.37  \n",
       "10254      9.47       1015.63  \n",
       "7319      18.03       1018.43  \n",
       "6678      11.33       1016.03  \n",
       "\n",
       "[10 rows x 21 columns]"
      ]
     },
     "execution_count": 5,
     "metadata": {},
     "output_type": "execute_result"
    }
   ],
   "source": [
    "from pathlib import Path\n",
    "from meteostat import Daily, Point\n",
    "from tqdm import tqdm\n",
    "import datetime as dt\n",
    "import pandas as Pd\n",
    "import numpy as np\n",
    "import os\n",
    "\n",
    "# Automatically find project root (the one containing the 'data' folder)\n",
    "ROOT = Path.cwd()\n",
    "if not (ROOT / \"data\").exists():\n",
    "    ROOT = ROOT.parent\n",
    "os.chdir(ROOT)\n",
    "\n",
    "DATA_DIR = Path(\"data\")\n",
    "drivers_Path = DATA_DIR/\"drivers.csv\"\n",
    "Lap_Times_path = DATA_DIR/\"lap_times.csv\"\n",
    "races_Path = DATA_DIR/\"races.csv\"\n",
    "circuit_Path = DATA_DIR/\"circuits.csv\"\n",
    "qual_Path = DATA_DIR/\"qualifying.csv\"\n",
    "\n",
    "drivers = Pd.read_csv(drivers_Path)\n",
    "lap_times = Pd.read_csv(Lap_Times_path)\n",
    "races = Pd.read_csv(races_Path)\n",
    "circuits = Pd.read_csv(circuit_Path)\n",
    "qual = Pd.read_csv(qual_Path)\n",
    "\n",
    "drv = drivers.copy()\n",
    "drv[\"drivers_name\"] = drv[\"forename\"].str.strip() + \" \" + drv[\"surname\"].str.strip()\n",
    "\n",
    "best_laps = (\n",
    "    lap_times\n",
    "    .groupby([\"raceId\", \"driverId\"])[\"milliseconds\"]\n",
    "    .min()\n",
    "    .reset_index()\n",
    "    .rename(columns={\"milliseconds\":\"bestLap_ms\"})\n",
    ")\n",
    "\n",
    "best_laps[\"bestLaps_s\"] = best_laps[\"bestLap_ms\"]/1000.0\n",
    "best_laps_named = best_laps.merge(drv[[\"driverId\", \"drivers_name\"]], on=\"driverId\", how=\"left\")\n",
    "\n",
    "races_small = races[[\"raceId\", \"year\", \"round\", \"circuitId\", \"name\", \"date\"]].copy()\n",
    "races_small.rename(columns={\"name\": \"gp_name\"}, inplace=True)\n",
    "\n",
    "circuit_small = circuits[[\"circuitId\", \"name\", \"country\", \"lat\", \"lng\", \"alt\"]].copy()\n",
    "circuit_small.rename(columns={\"name\": \"circuit_name\"}, inplace=True)\n",
    "\n",
    "bl = best_laps_named.copy()\n",
    "bl_race = bl.merge(races_small, on=\"raceId\", how=\"left\")\n",
    "bl_full = bl_race.merge(circuit_small, on=\"circuitId\", how=\"left\")\n",
    "\n",
    "def time_str_to_seconds(x):\n",
    "    \"\"\"\n",
    "    Convert time strings like '1:12.345' to seconds (float).\n",
    "    Handles None/NaN/empty safely.\n",
    "    \"\"\"\n",
    "    if Pd.isna(x) or x == \"\":\n",
    "        return np.nan\n",
    "    s = str(x)\n",
    "    if \":\" in s:\n",
    "        m, rest = s.split(\":\")\n",
    "        return float(m) * 60.0 + float(rest)\n",
    "    # sometimes it's already seconds-like\n",
    "    try:\n",
    "        return float(s)\n",
    "    except Exception:\n",
    "        return np.nan\n",
    "\n",
    "# apply to each q-column\n",
    "for col in [\"q1\", \"q2\", \"q3\"]:\n",
    "    if col in qual.columns:\n",
    "        qual[col + \"_s\"] = qual[col].apply(time_str_to_seconds)\n",
    "\n",
    "# best of the available sessions (some drivers only set Q1 or Q2)\n",
    "q_time_cols = [c for c in [\"q1_s\",\"q2_s\",\"q3_s\"] if c in qual.columns]\n",
    "qual[\"qual_best_s\"] = qual[q_time_cols].min(axis=1, skipna=True)\n",
    "\n",
    "# keep only the fields we need\n",
    "qual_small = qual[[\"raceId\",\"driverId\",\"position\",\"qual_best_s\"]].copy()\n",
    "qual_small.rename(columns={\"position\":\"qual_pos\"}, inplace=True)\n",
    "\n",
    "# bl_full currently has: [raceId, driverId, bestLap_s, year, gp_name, circuit_name, country, lat, lng, ...]\n",
    "bl_q = bl_full.merge(qual_small, on=[\"raceId\",\"driverId\"], how=\"left\")\n",
    "\n",
    "def get_weather(lat, lng, date_str):\n",
    "    \"\"\"\n",
    "    Fetch weather for given location (lat, lng) and race date.\n",
    "    Returns a dict with average temperature, rain, wind speed, and pressure.\n",
    "    \"\"\"\n",
    "    try:\n",
    "        date = Pd.to_datetime(date_str)\n",
    "        start = date - dt.timedelta(days=1)  # buffer (previous day)\n",
    "        end = date + dt.timedelta(days=1)\n",
    "        location = Point(lat, lng)\n",
    "        data = Daily(location, start, end)\n",
    "        df = data.fetch()\n",
    "        if df.empty:\n",
    "            return {\"temp_c\": None, \"rain_mm\": None, \"wind_mps\": None, \"pressure_hpa\": None}\n",
    "        # Take mean of these 3 days for smoother approximation\n",
    "        return {\n",
    "            \"temp_c\": round(df[\"tavg\"].mean(), 2) if \"tavg\" in df else None,\n",
    "            \"rain_mm\": round(df[\"prcp\"].sum(), 2) if \"prcp\" in df else None,\n",
    "            \"wind_mps\": round(df[\"wspd\"].mean(), 2) if \"wspd\" in df else None,\n",
    "            \"pressure_hpa\": round(df[\"pres\"].mean(), 2) if \"pres\" in df else None,\n",
    "        }\n",
    "    except Exception as e:\n",
    "        print(\"⚠️ Error:\", e)\n",
    "        return {\"temp_c\": None, \"rain_mm\": None, \"wind_mps\": None, \"pressure_hpa\": None}\n",
    "\n",
    "weather_cache = {}\n",
    "weather_records = []\n",
    "\n",
    "for _, row in tqdm(bl_q.iterrows(), total=len(bl_q)):\n",
    "    race_id = row[\"raceId\"]\n",
    "    if race_id not in weather_cache:\n",
    "        w = get_weather(row[\"lat\"], row[\"lng\"], row[\"date\"])\n",
    "        weather_cache[race_id] = w\n",
    "    weather_records.append(weather_cache[race_id])\n",
    "\n",
    "weather_df = Pd.DataFrame(weather_records)\n",
    "bl_weather = Pd.concat([bl_q.reset_index(drop=True), weather_df], axis=1)\n",
    "\n",
    "bl_weather.to_csv(\"outputs/f1_features_weather.csv\", index=False)\n"
   ]
  }
 ],
 "metadata": {
  "kernelspec": {
   "display_name": ".venv",
   "language": "python",
   "name": "python3"
  },
  "language_info": {
   "codemirror_mode": {
    "name": "ipython",
    "version": 3
   },
   "file_extension": ".py",
   "mimetype": "text/x-python",
   "name": "python",
   "nbconvert_exporter": "python",
   "pygments_lexer": "ipython3",
   "version": "3.12.0"
  }
 },
 "nbformat": 4,
 "nbformat_minor": 5
}
