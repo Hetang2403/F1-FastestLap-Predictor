{
 "cells": [
  {
   "cell_type": "code",
   "execution_count": 6,
   "id": "c3f2091b",
   "metadata": {},
   "outputs": [
    {
     "name": "stderr",
     "output_type": "stream",
     "text": [
      "  0%|          | 20/11041 [00:00<02:14, 81.67it/s]"
     ]
    },
    {
     "name": "stdout",
     "output_type": "stream",
     "text": [
      "⚠️ Error: type NAType doesn't define __round__ method\n",
      "⚠️ Error: type NAType doesn't define __round__ method\n"
     ]
    },
    {
     "name": "stderr",
     "output_type": "stream",
     "text": [
      "  1%|          | 59/11041 [00:00<01:21, 134.75it/s]"
     ]
    },
    {
     "name": "stdout",
     "output_type": "stream",
     "text": [
      "⚠️ Error: type NAType doesn't define __round__ method\n",
      "⚠️ Error: type NAType doesn't define __round__ method\n"
     ]
    },
    {
     "name": "stderr",
     "output_type": "stream",
     "text": [
      "  1%|          | 135/11041 [00:00<01:05, 166.64it/s]"
     ]
    },
    {
     "name": "stdout",
     "output_type": "stream",
     "text": [
      "⚠️ Error: type NAType doesn't define __round__ method\n"
     ]
    },
    {
     "name": "stderr",
     "output_type": "stream",
     "text": [
      "  2%|▏         | 249/11041 [00:01<01:12, 148.78it/s]"
     ]
    },
    {
     "name": "stdout",
     "output_type": "stream",
     "text": [
      "⚠️ Error: type NAType doesn't define __round__ method\n",
      "⚠️ Error: type NAType doesn't define __round__ method\n"
     ]
    },
    {
     "name": "stderr",
     "output_type": "stream",
     "text": [
      "  3%|▎         | 288/11041 [00:02<01:09, 155.68it/s]"
     ]
    },
    {
     "name": "stdout",
     "output_type": "stream",
     "text": [
      "⚠️ Error: type NAType doesn't define __round__ method\n",
      "⚠️ Error: type NAType doesn't define __round__ method\n"
     ]
    },
    {
     "name": "stderr",
     "output_type": "stream",
     "text": [
      "  3%|▎         | 325/11041 [00:02<01:25, 126.06it/s]"
     ]
    },
    {
     "name": "stdout",
     "output_type": "stream",
     "text": [
      "⚠️ Error: type NAType doesn't define __round__ method\n",
      "⚠️ Error: type NAType doesn't define __round__ method\n"
     ]
    },
    {
     "name": "stderr",
     "output_type": "stream",
     "text": [
      "  3%|▎         | 363/11041 [00:02<01:16, 139.81it/s]"
     ]
    },
    {
     "name": "stdout",
     "output_type": "stream",
     "text": [
      "⚠️ Error: type NAType doesn't define __round__ method\n",
      "⚠️ Error: type NAType doesn't define __round__ method\n"
     ]
    },
    {
     "name": "stderr",
     "output_type": "stream",
     "text": [
      "  4%|▍         | 423/11041 [00:02<01:10, 151.67it/s]"
     ]
    },
    {
     "name": "stdout",
     "output_type": "stream",
     "text": [
      "⚠️ Error: type NAType doesn't define __round__ method\n"
     ]
    },
    {
     "name": "stderr",
     "output_type": "stream",
     "text": [
      "  5%|▌         | 600/11041 [00:04<01:08, 152.84it/s]"
     ]
    },
    {
     "name": "stdout",
     "output_type": "stream",
     "text": [
      "⚠️ Error: type NAType doesn't define __round__ method\n",
      "⚠️ Error: type NAType doesn't define __round__ method\n"
     ]
    },
    {
     "name": "stderr",
     "output_type": "stream",
     "text": [
      "  6%|▌         | 639/11041 [00:04<01:05, 158.32it/s]"
     ]
    },
    {
     "name": "stdout",
     "output_type": "stream",
     "text": [
      "⚠️ Error: type NAType doesn't define __round__ method\n",
      "⚠️ Error: type NAType doesn't define __round__ method\n"
     ]
    },
    {
     "name": "stderr",
     "output_type": "stream",
     "text": [
      "  6%|▌         | 677/11041 [00:04<01:10, 146.84it/s]"
     ]
    },
    {
     "name": "stdout",
     "output_type": "stream",
     "text": [
      "⚠️ Error: type NAType doesn't define __round__ method\n",
      "⚠️ Error: type NAType doesn't define __round__ method\n"
     ]
    },
    {
     "name": "stderr",
     "output_type": "stream",
     "text": [
      "  7%|▋         | 720/11041 [00:04<01:00, 171.46it/s]"
     ]
    },
    {
     "name": "stdout",
     "output_type": "stream",
     "text": [
      "⚠️ Error: type NAType doesn't define __round__ method\n",
      "⚠️ Error: type NAType doesn't define __round__ method\n"
     ]
    },
    {
     "name": "stderr",
     "output_type": "stream",
     "text": [
      "  8%|▊         | 933/11041 [00:06<00:59, 170.26it/s]"
     ]
    },
    {
     "name": "stdout",
     "output_type": "stream",
     "text": [
      "⚠️ Error: type NAType doesn't define __round__ method\n",
      "⚠️ Error: type NAType doesn't define __round__ method\n"
     ]
    },
    {
     "name": "stderr",
     "output_type": "stream",
     "text": [
      "  9%|▉         | 999/11041 [00:06<01:04, 155.36it/s]"
     ]
    },
    {
     "name": "stdout",
     "output_type": "stream",
     "text": [
      "⚠️ Error: type NAType doesn't define __round__ method\n",
      "⚠️ Error: type NAType doesn't define __round__ method\n"
     ]
    },
    {
     "name": "stderr",
     "output_type": "stream",
     "text": [
      " 10%|▉         | 1068/11041 [00:06<00:50, 196.15it/s]"
     ]
    },
    {
     "name": "stdout",
     "output_type": "stream",
     "text": [
      "⚠️ Error: type NAType doesn't define __round__ method\n",
      "⚠️ Error: type NAType doesn't define __round__ method\n"
     ]
    },
    {
     "name": "stderr",
     "output_type": "stream",
     "text": [
      " 10%|█         | 1108/11041 [00:07<00:55, 180.52it/s]"
     ]
    },
    {
     "name": "stdout",
     "output_type": "stream",
     "text": [
      "⚠️ Error: type NAType doesn't define __round__ method\n",
      "⚠️ Error: type NAType doesn't define __round__ method\n"
     ]
    },
    {
     "name": "stderr",
     "output_type": "stream",
     "text": [
      " 12%|█▏        | 1330/11041 [00:08<00:55, 175.01it/s]"
     ]
    },
    {
     "name": "stdout",
     "output_type": "stream",
     "text": [
      "⚠️ Error: type NAType doesn't define __round__ method\n",
      "⚠️ Error: type NAType doesn't define __round__ method\n"
     ]
    },
    {
     "name": "stderr",
     "output_type": "stream",
     "text": [
      " 12%|█▏        | 1374/11041 [00:08<00:56, 171.80it/s]"
     ]
    },
    {
     "name": "stdout",
     "output_type": "stream",
     "text": [
      "⚠️ Error: type NAType doesn't define __round__ method\n",
      "⚠️ Error: type NAType doesn't define __round__ method\n"
     ]
    },
    {
     "name": "stderr",
     "output_type": "stream",
     "text": [
      " 13%|█▎        | 1417/11041 [00:08<00:59, 163.03it/s]"
     ]
    },
    {
     "name": "stdout",
     "output_type": "stream",
     "text": [
      "⚠️ Error: type NAType doesn't define __round__ method\n",
      "⚠️ Error: type NAType doesn't define __round__ method\n"
     ]
    },
    {
     "name": "stderr",
     "output_type": "stream",
     "text": [
      " 14%|█▎        | 1496/11041 [00:09<00:49, 191.21it/s]"
     ]
    },
    {
     "name": "stdout",
     "output_type": "stream",
     "text": [
      "⚠️ Error: type NAType doesn't define __round__ method\n",
      "⚠️ Error: type NAType doesn't define __round__ method\n"
     ]
    },
    {
     "name": "stderr",
     "output_type": "stream",
     "text": [
      " 15%|█▌        | 1675/11041 [00:10<01:04, 145.91it/s]"
     ]
    },
    {
     "name": "stdout",
     "output_type": "stream",
     "text": [
      "⚠️ Error: type NAType doesn't define __round__ method\n"
     ]
    },
    {
     "name": "stderr",
     "output_type": "stream",
     "text": [
      " 16%|█▌        | 1733/11041 [00:10<00:59, 155.66it/s]"
     ]
    },
    {
     "name": "stdout",
     "output_type": "stream",
     "text": [
      "⚠️ Error: type NAType doesn't define __round__ method\n",
      "⚠️ Error: type NAType doesn't define __round__ method\n"
     ]
    },
    {
     "name": "stderr",
     "output_type": "stream",
     "text": [
      " 16%|█▌        | 1772/11041 [00:11<01:00, 154.13it/s]"
     ]
    },
    {
     "name": "stdout",
     "output_type": "stream",
     "text": [
      "⚠️ Error: type NAType doesn't define __round__ method\n",
      "⚠️ Error: type NAType doesn't define __round__ method\n"
     ]
    },
    {
     "name": "stderr",
     "output_type": "stream",
     "text": [
      " 16%|█▋        | 1812/11041 [00:11<00:53, 171.53it/s]"
     ]
    },
    {
     "name": "stdout",
     "output_type": "stream",
     "text": [
      "⚠️ Error: type NAType doesn't define __round__ method\n",
      "⚠️ Error: type NAType doesn't define __round__ method\n"
     ]
    },
    {
     "name": "stderr",
     "output_type": "stream",
     "text": [
      " 19%|█▊        | 2059/11041 [00:12<00:55, 162.48it/s]"
     ]
    },
    {
     "name": "stdout",
     "output_type": "stream",
     "text": [
      "⚠️ Error: type NAType doesn't define __round__ method\n",
      "⚠️ Error: type NAType doesn't define __round__ method\n"
     ]
    },
    {
     "name": "stderr",
     "output_type": "stream",
     "text": [
      " 19%|█▉        | 2099/11041 [00:13<00:52, 171.57it/s]"
     ]
    },
    {
     "name": "stdout",
     "output_type": "stream",
     "text": [
      "⚠️ Error: type NAType doesn't define __round__ method\n",
      "⚠️ Error: type NAType doesn't define __round__ method\n"
     ]
    },
    {
     "name": "stderr",
     "output_type": "stream",
     "text": [
      " 20%|█▉        | 2157/11041 [00:13<00:51, 171.16it/s]"
     ]
    },
    {
     "name": "stdout",
     "output_type": "stream",
     "text": [
      "⚠️ Error: type NAType doesn't define __round__ method\n",
      "⚠️ Error: type NAType doesn't define __round__ method\n",
      "⚠️ Error: type NAType doesn't define __round__ method\n"
     ]
    },
    {
     "name": "stderr",
     "output_type": "stream",
     "text": [
      " 22%|██▏       | 2386/11041 [00:14<00:54, 159.78it/s]"
     ]
    },
    {
     "name": "stdout",
     "output_type": "stream",
     "text": [
      "⚠️ Error: type NAType doesn't define __round__ method\n"
     ]
    },
    {
     "name": "stderr",
     "output_type": "stream",
     "text": [
      " 22%|██▏       | 2426/11041 [00:15<00:59, 145.91it/s]"
     ]
    },
    {
     "name": "stdout",
     "output_type": "stream",
     "text": [
      "⚠️ Error: type NAType doesn't define __round__ method\n",
      "⚠️ Error: type NAType doesn't define __round__ method\n"
     ]
    },
    {
     "name": "stderr",
     "output_type": "stream",
     "text": [
      " 22%|██▏       | 2462/11041 [00:15<01:00, 141.79it/s]"
     ]
    },
    {
     "name": "stdout",
     "output_type": "stream",
     "text": [
      "⚠️ Error: type NAType doesn't define __round__ method\n",
      "⚠️ Error: type NAType doesn't define __round__ method\n"
     ]
    },
    {
     "name": "stderr",
     "output_type": "stream",
     "text": [
      " 23%|██▎       | 2504/11041 [00:15<00:56, 149.95it/s]"
     ]
    },
    {
     "name": "stdout",
     "output_type": "stream",
     "text": [
      "⚠️ Error: type NAType doesn't define __round__ method\n"
     ]
    },
    {
     "name": "stderr",
     "output_type": "stream",
     "text": [
      " 25%|██▍       | 2708/11041 [00:16<00:45, 184.39it/s]"
     ]
    },
    {
     "name": "stdout",
     "output_type": "stream",
     "text": [
      "⚠️ Error: type NAType doesn't define __round__ method\n"
     ]
    },
    {
     "name": "stderr",
     "output_type": "stream",
     "text": [
      " 25%|██▌       | 2767/11041 [00:17<00:46, 177.44it/s]"
     ]
    },
    {
     "name": "stdout",
     "output_type": "stream",
     "text": [
      "⚠️ Error: type NAType doesn't define __round__ method\n",
      "⚠️ Error: type NAType doesn't define __round__ method\n"
     ]
    },
    {
     "name": "stderr",
     "output_type": "stream",
     "text": [
      " 25%|██▌       | 2809/11041 [00:17<00:45, 181.67it/s]"
     ]
    },
    {
     "name": "stdout",
     "output_type": "stream",
     "text": [
      "⚠️ Error: type NAType doesn't define __round__ method\n",
      "⚠️ Error: type NAType doesn't define __round__ method\n"
     ]
    },
    {
     "name": "stderr",
     "output_type": "stream",
     "text": [
      " 26%|██▌       | 2852/11041 [00:17<00:40, 204.60it/s]"
     ]
    },
    {
     "name": "stdout",
     "output_type": "stream",
     "text": [
      "⚠️ Error: type NAType doesn't define __round__ method\n"
     ]
    },
    {
     "name": "stderr",
     "output_type": "stream",
     "text": [
      " 28%|██▊       | 3044/11041 [00:18<00:40, 198.70it/s]"
     ]
    },
    {
     "name": "stdout",
     "output_type": "stream",
     "text": [
      "⚠️ Error: type NAType doesn't define __round__ method\n"
     ]
    },
    {
     "name": "stderr",
     "output_type": "stream",
     "text": [
      " 28%|██▊       | 3083/11041 [00:18<00:42, 185.31it/s]"
     ]
    },
    {
     "name": "stdout",
     "output_type": "stream",
     "text": [
      "⚠️ Error: type NAType doesn't define __round__ method\n"
     ]
    },
    {
     "name": "stderr",
     "output_type": "stream",
     "text": [
      " 28%|██▊       | 3102/11041 [00:18<00:45, 173.71it/s]"
     ]
    },
    {
     "name": "stdout",
     "output_type": "stream",
     "text": [
      "⚠️ Error: type NAType doesn't define __round__ method\n"
     ]
    },
    {
     "name": "stderr",
     "output_type": "stream",
     "text": [
      " 28%|██▊       | 3144/11041 [00:19<00:51, 153.41it/s]"
     ]
    },
    {
     "name": "stdout",
     "output_type": "stream",
     "text": [
      "⚠️ Error: type NAType doesn't define __round__ method\n",
      "⚠️ Error: type NAType doesn't define __round__ method\n"
     ]
    },
    {
     "name": "stderr",
     "output_type": "stream",
     "text": [
      " 29%|██▉       | 3208/11041 [00:19<00:40, 193.51it/s]"
     ]
    },
    {
     "name": "stdout",
     "output_type": "stream",
     "text": [
      "⚠️ Error: type NAType doesn't define __round__ method\n"
     ]
    },
    {
     "name": "stderr",
     "output_type": "stream",
     "text": [
      " 31%|███       | 3416/11041 [00:20<00:40, 189.76it/s]"
     ]
    },
    {
     "name": "stdout",
     "output_type": "stream",
     "text": [
      "⚠️ Error: type NAType doesn't define __round__ method\n"
     ]
    },
    {
     "name": "stderr",
     "output_type": "stream",
     "text": [
      " 31%|███       | 3435/11041 [00:20<00:41, 185.37it/s]"
     ]
    },
    {
     "name": "stdout",
     "output_type": "stream",
     "text": [
      "⚠️ Error: type NAType doesn't define __round__ method\n",
      "⚠️ Error: type NAType doesn't define __round__ method\n"
     ]
    },
    {
     "name": "stderr",
     "output_type": "stream",
     "text": [
      " 32%|███▏      | 3495/11041 [00:21<00:41, 183.72it/s]"
     ]
    },
    {
     "name": "stdout",
     "output_type": "stream",
     "text": [
      "⚠️ Error: type NAType doesn't define __round__ method\n",
      "⚠️ Error: type NAType doesn't define __round__ method\n"
     ]
    },
    {
     "name": "stderr",
     "output_type": "stream",
     "text": [
      " 34%|███▍      | 3746/11041 [00:22<00:42, 170.70it/s]"
     ]
    },
    {
     "name": "stdout",
     "output_type": "stream",
     "text": [
      "⚠️ Error: type NAType doesn't define __round__ method\n"
     ]
    },
    {
     "name": "stderr",
     "output_type": "stream",
     "text": [
      " 34%|███▍      | 3785/11041 [00:22<00:46, 156.39it/s]"
     ]
    },
    {
     "name": "stdout",
     "output_type": "stream",
     "text": [
      "⚠️ Error: type NAType doesn't define __round__ method\n",
      "⚠️ Error: type NAType doesn't define __round__ method\n"
     ]
    },
    {
     "name": "stderr",
     "output_type": "stream",
     "text": [
      " 35%|███▍      | 3827/11041 [00:22<00:42, 169.15it/s]"
     ]
    },
    {
     "name": "stdout",
     "output_type": "stream",
     "text": [
      "⚠️ Error: type NAType doesn't define __round__ method\n"
     ]
    },
    {
     "name": "stderr",
     "output_type": "stream",
     "text": [
      " 36%|███▌      | 3932/11041 [00:23<00:39, 181.93it/s]"
     ]
    },
    {
     "name": "stdout",
     "output_type": "stream",
     "text": [
      "⚠️ Error: type NAType doesn't define __round__ method\n"
     ]
    },
    {
     "name": "stderr",
     "output_type": "stream",
     "text": [
      " 37%|███▋      | 4135/11041 [00:24<00:37, 185.91it/s]"
     ]
    },
    {
     "name": "stdout",
     "output_type": "stream",
     "text": [
      "⚠️ Error: type NAType doesn't define __round__ method\n",
      "⚠️ Error: type NAType doesn't define __round__ method\n"
     ]
    },
    {
     "name": "stderr",
     "output_type": "stream",
     "text": [
      " 38%|███▊      | 4154/11041 [00:24<00:37, 182.04it/s]"
     ]
    },
    {
     "name": "stdout",
     "output_type": "stream",
     "text": [
      "⚠️ Error: type NAType doesn't define __round__ method\n"
     ]
    },
    {
     "name": "stderr",
     "output_type": "stream",
     "text": [
      " 38%|███▊      | 4215/11041 [00:25<00:47, 143.67it/s]"
     ]
    },
    {
     "name": "stdout",
     "output_type": "stream",
     "text": [
      "⚠️ Error: type NAType doesn't define __round__ method\n",
      "⚠️ Error: type NAType doesn't define __round__ method\n"
     ]
    },
    {
     "name": "stderr",
     "output_type": "stream",
     "text": [
      " 40%|███▉      | 4362/11041 [00:25<00:36, 184.20it/s]"
     ]
    },
    {
     "name": "stdout",
     "output_type": "stream",
     "text": [
      "⚠️ Error: type NAType doesn't define __round__ method\n"
     ]
    },
    {
     "name": "stderr",
     "output_type": "stream",
     "text": [
      " 40%|████      | 4468/11041 [00:26<00:37, 176.30it/s]"
     ]
    },
    {
     "name": "stdout",
     "output_type": "stream",
     "text": [
      "⚠️ Error: type NAType doesn't define __round__ method\n",
      "⚠️ Error: type NAType doesn't define __round__ method\n"
     ]
    },
    {
     "name": "stderr",
     "output_type": "stream",
     "text": [
      " 41%|████      | 4509/11041 [00:26<00:37, 173.42it/s]"
     ]
    },
    {
     "name": "stdout",
     "output_type": "stream",
     "text": [
      "⚠️ Error: type NAType doesn't define __round__ method\n",
      "⚠️ Error: type NAType doesn't define __round__ method\n"
     ]
    },
    {
     "name": "stderr",
     "output_type": "stream",
     "text": [
      " 42%|████▏     | 4593/11041 [00:27<00:34, 189.16it/s]"
     ]
    },
    {
     "name": "stdout",
     "output_type": "stream",
     "text": [
      "⚠️ Error: type NAType doesn't define __round__ method\n"
     ]
    },
    {
     "name": "stderr",
     "output_type": "stream",
     "text": [
      " 43%|████▎     | 4727/11041 [00:27<00:35, 176.09it/s]"
     ]
    },
    {
     "name": "stdout",
     "output_type": "stream",
     "text": [
      "⚠️ Error: type NAType doesn't define __round__ method\n"
     ]
    },
    {
     "name": "stderr",
     "output_type": "stream",
     "text": [
      " 43%|████▎     | 4782/11041 [00:28<00:36, 169.81it/s]"
     ]
    },
    {
     "name": "stdout",
     "output_type": "stream",
     "text": [
      "⚠️ Error: type NAType doesn't define __round__ method\n",
      "⚠️ Error: type NAType doesn't define __round__ method\n"
     ]
    },
    {
     "name": "stderr",
     "output_type": "stream",
     "text": [
      " 44%|████▎     | 4824/11041 [00:28<00:35, 176.82it/s]"
     ]
    },
    {
     "name": "stdout",
     "output_type": "stream",
     "text": [
      "⚠️ Error: type NAType doesn't define __round__ method\n",
      "⚠️ Error: type NAType doesn't define __round__ method\n"
     ]
    },
    {
     "name": "stderr",
     "output_type": "stream",
     "text": [
      " 44%|████▍     | 4867/11041 [00:28<00:32, 187.83it/s]"
     ]
    },
    {
     "name": "stdout",
     "output_type": "stream",
     "text": [
      "⚠️ Error: type NAType doesn't define __round__ method\n",
      "⚠️ Error: type NAType doesn't define __round__ method\n"
     ]
    },
    {
     "name": "stderr",
     "output_type": "stream",
     "text": [
      " 45%|████▍     | 4956/11041 [00:29<00:32, 187.81it/s]"
     ]
    },
    {
     "name": "stdout",
     "output_type": "stream",
     "text": [
      "⚠️ Error: type NAType doesn't define __round__ method\n"
     ]
    },
    {
     "name": "stderr",
     "output_type": "stream",
     "text": [
      " 46%|████▌     | 5052/11041 [00:29<00:29, 202.03it/s]"
     ]
    },
    {
     "name": "stdout",
     "output_type": "stream",
     "text": [
      "⚠️ Error: type NAType doesn't define __round__ method\n"
     ]
    },
    {
     "name": "stderr",
     "output_type": "stream",
     "text": [
      " 46%|████▋     | 5121/11041 [00:30<00:30, 191.28it/s]"
     ]
    },
    {
     "name": "stdout",
     "output_type": "stream",
     "text": [
      "⚠️ Error: type NAType doesn't define __round__ method\n",
      "⚠️ Error: type NAType doesn't define __round__ method\n"
     ]
    },
    {
     "name": "stderr",
     "output_type": "stream",
     "text": [
      " 47%|████▋     | 5164/11041 [00:30<00:32, 181.65it/s]"
     ]
    },
    {
     "name": "stdout",
     "output_type": "stream",
     "text": [
      "⚠️ Error: type NAType doesn't define __round__ method\n",
      "⚠️ Error: type NAType doesn't define __round__ method\n"
     ]
    },
    {
     "name": "stderr",
     "output_type": "stream",
     "text": [
      " 47%|████▋     | 5212/11041 [00:30<00:30, 188.80it/s]"
     ]
    },
    {
     "name": "stdout",
     "output_type": "stream",
     "text": [
      "⚠️ Error: type NAType doesn't define __round__ method\n",
      "⚠️ Error: type NAType doesn't define __round__ method\n"
     ]
    },
    {
     "name": "stderr",
     "output_type": "stream",
     "text": [
      " 47%|████▋     | 5234/11041 [00:30<00:32, 177.66it/s]"
     ]
    },
    {
     "name": "stdout",
     "output_type": "stream",
     "text": [
      "⚠️ Error: type NAType doesn't define __round__ method\n",
      "⚠️ Error: type NAType doesn't define __round__ method\n",
      "⚠️ Error: type NAType doesn't define __round__ method\n"
     ]
    },
    {
     "name": "stderr",
     "output_type": "stream",
     "text": [
      " 48%|████▊     | 5351/11041 [00:31<00:26, 215.00it/s]"
     ]
    },
    {
     "name": "stdout",
     "output_type": "stream",
     "text": [
      "⚠️ Error: type NAType doesn't define __round__ method\n"
     ]
    },
    {
     "name": "stderr",
     "output_type": "stream",
     "text": [
      " 50%|█████     | 5538/11041 [00:32<00:29, 189.24it/s]"
     ]
    },
    {
     "name": "stdout",
     "output_type": "stream",
     "text": [
      "⚠️ Error: type NAType doesn't define __round__ method\n",
      "⚠️ Error: type NAType doesn't define __round__ method\n"
     ]
    },
    {
     "name": "stderr",
     "output_type": "stream",
     "text": [
      " 51%|█████     | 5586/11041 [00:32<00:28, 194.09it/s]"
     ]
    },
    {
     "name": "stdout",
     "output_type": "stream",
     "text": [
      "⚠️ Error: type NAType doesn't define __round__ method\n",
      "⚠️ Error: type NAType doesn't define __round__ method\n"
     ]
    },
    {
     "name": "stderr",
     "output_type": "stream",
     "text": [
      " 51%|█████     | 5657/11041 [00:32<00:25, 215.15it/s]"
     ]
    },
    {
     "name": "stdout",
     "output_type": "stream",
     "text": [
      "⚠️ Error: type NAType doesn't define __round__ method\n",
      "⚠️ Error: type NAType doesn't define __round__ method\n"
     ]
    },
    {
     "name": "stderr",
     "output_type": "stream",
     "text": [
      " 51%|█████▏    | 5681/11041 [00:32<00:26, 201.95it/s]"
     ]
    },
    {
     "name": "stdout",
     "output_type": "stream",
     "text": [
      "⚠️ Error: type NAType doesn't define __round__ method\n",
      "⚠️ Error: type NAType doesn't define __round__ method\n"
     ]
    },
    {
     "name": "stderr",
     "output_type": "stream",
     "text": [
      " 52%|█████▏    | 5774/11041 [00:33<00:22, 230.05it/s]"
     ]
    },
    {
     "name": "stdout",
     "output_type": "stream",
     "text": [
      "⚠️ Error: type NAType doesn't define __round__ method\n",
      "⚠️ Error: type NAType doesn't define __round__ method\n"
     ]
    },
    {
     "name": "stderr",
     "output_type": "stream",
     "text": [
      " 54%|█████▍    | 5981/11041 [00:34<00:25, 201.31it/s]"
     ]
    },
    {
     "name": "stdout",
     "output_type": "stream",
     "text": [
      "⚠️ Error: type NAType doesn't define __round__ method\n",
      "⚠️ Error: type NAType doesn't define __round__ method\n"
     ]
    },
    {
     "name": "stderr",
     "output_type": "stream",
     "text": [
      " 55%|█████▍    | 6027/11041 [00:34<00:25, 193.48it/s]"
     ]
    },
    {
     "name": "stdout",
     "output_type": "stream",
     "text": [
      "⚠️ Error: type NAType doesn't define __round__ method\n",
      "⚠️ Error: type NAType doesn't define __round__ method\n"
     ]
    },
    {
     "name": "stderr",
     "output_type": "stream",
     "text": [
      " 55%|█████▌    | 6097/11041 [00:34<00:27, 182.18it/s]"
     ]
    },
    {
     "name": "stdout",
     "output_type": "stream",
     "text": [
      "⚠️ Error: type NAType doesn't define __round__ method\n"
     ]
    },
    {
     "name": "stderr",
     "output_type": "stream",
     "text": [
      " 56%|█████▌    | 6143/11041 [00:35<00:27, 181.06it/s]"
     ]
    },
    {
     "name": "stdout",
     "output_type": "stream",
     "text": [
      "⚠️ Error: type NAType doesn't define __round__ method\n",
      "⚠️ Error: type NAType doesn't define __round__ method\n"
     ]
    },
    {
     "name": "stderr",
     "output_type": "stream",
     "text": [
      " 56%|█████▌    | 6186/11041 [00:35<00:25, 187.66it/s]"
     ]
    },
    {
     "name": "stdout",
     "output_type": "stream",
     "text": [
      "⚠️ Error: type NAType doesn't define __round__ method\n",
      "⚠️ Error: type NAType doesn't define __round__ method\n"
     ]
    },
    {
     "name": "stderr",
     "output_type": "stream",
     "text": [
      " 56%|█████▋    | 6230/11041 [00:35<00:23, 208.66it/s]"
     ]
    },
    {
     "name": "stdout",
     "output_type": "stream",
     "text": [
      "⚠️ Error: type NAType doesn't define __round__ method\n"
     ]
    },
    {
     "name": "stderr",
     "output_type": "stream",
     "text": [
      " 58%|█████▊    | 6405/11041 [00:36<00:24, 188.11it/s]"
     ]
    },
    {
     "name": "stdout",
     "output_type": "stream",
     "text": [
      "⚠️ Error: type NAType doesn't define __round__ method\n",
      "⚠️ Error: type NAType doesn't define __round__ method\n"
     ]
    },
    {
     "name": "stderr",
     "output_type": "stream",
     "text": [
      " 58%|█████▊    | 6449/11041 [00:36<00:25, 182.06it/s]"
     ]
    },
    {
     "name": "stdout",
     "output_type": "stream",
     "text": [
      "⚠️ Error: type NAType doesn't define __round__ method\n",
      "⚠️ Error: type NAType doesn't define __round__ method\n"
     ]
    },
    {
     "name": "stderr",
     "output_type": "stream",
     "text": [
      " 59%|█████▉    | 6512/11041 [00:37<00:25, 175.45it/s]"
     ]
    },
    {
     "name": "stdout",
     "output_type": "stream",
     "text": [
      "⚠️ Error: type NAType doesn't define __round__ method\n"
     ]
    },
    {
     "name": "stderr",
     "output_type": "stream",
     "text": [
      " 59%|█████▉    | 6555/11041 [00:37<00:28, 158.59it/s]"
     ]
    },
    {
     "name": "stdout",
     "output_type": "stream",
     "text": [
      "⚠️ Error: type NAType doesn't define __round__ method\n",
      "⚠️ Error: type NAType doesn't define __round__ method\n"
     ]
    },
    {
     "name": "stderr",
     "output_type": "stream",
     "text": [
      " 60%|█████▉    | 6575/11041 [00:37<00:26, 167.22it/s]"
     ]
    },
    {
     "name": "stdout",
     "output_type": "stream",
     "text": [
      "⚠️ Error: type NAType doesn't define __round__ method\n",
      "⚠️ Error: type NAType doesn't define __round__ method\n"
     ]
    },
    {
     "name": "stderr",
     "output_type": "stream",
     "text": [
      " 60%|██████    | 6662/11041 [00:37<00:22, 196.26it/s]"
     ]
    },
    {
     "name": "stdout",
     "output_type": "stream",
     "text": [
      "⚠️ Error: type NAType doesn't define __round__ method\n"
     ]
    },
    {
     "name": "stderr",
     "output_type": "stream",
     "text": [
      " 62%|██████▏   | 6831/11041 [00:38<00:22, 190.75it/s]"
     ]
    },
    {
     "name": "stdout",
     "output_type": "stream",
     "text": [
      "⚠️ Error: type NAType doesn't define __round__ method\n",
      "⚠️ Error: type NAType doesn't define __round__ method\n"
     ]
    },
    {
     "name": "stderr",
     "output_type": "stream",
     "text": [
      " 62%|██████▏   | 6852/11041 [00:38<00:22, 183.04it/s]"
     ]
    },
    {
     "name": "stdout",
     "output_type": "stream",
     "text": [
      "⚠️ Error: type NAType doesn't define __round__ method\n"
     ]
    },
    {
     "name": "stderr",
     "output_type": "stream",
     "text": [
      " 63%|██████▎   | 6933/11041 [00:39<00:23, 175.32it/s]"
     ]
    },
    {
     "name": "stdout",
     "output_type": "stream",
     "text": [
      "⚠️ Error: type NAType doesn't define __round__ method\n",
      "⚠️ Error: type NAType doesn't define __round__ method\n"
     ]
    },
    {
     "name": "stderr",
     "output_type": "stream",
     "text": [
      " 63%|██████▎   | 6983/11041 [00:39<00:25, 156.35it/s]"
     ]
    },
    {
     "name": "stdout",
     "output_type": "stream",
     "text": [
      "⚠️ Error: type NAType doesn't define __round__ method\n",
      "⚠️ Error: type NAType doesn't define __round__ method\n",
      "⚠️ Error: type NAType doesn't define __round__ method\n"
     ]
    },
    {
     "name": "stderr",
     "output_type": "stream",
     "text": [
      " 65%|██████▌   | 7194/11041 [00:41<00:23, 163.45it/s]"
     ]
    },
    {
     "name": "stdout",
     "output_type": "stream",
     "text": [
      "⚠️ Error: type NAType doesn't define __round__ method\n",
      "⚠️ Error: type NAType doesn't define __round__ method\n"
     ]
    },
    {
     "name": "stderr",
     "output_type": "stream",
     "text": [
      " 68%|██████▊   | 7500/11041 [00:42<00:16, 217.55it/s]"
     ]
    },
    {
     "name": "stdout",
     "output_type": "stream",
     "text": [
      "⚠️ Error: type NAType doesn't define __round__ method\n",
      "⚠️ Error: type NAType doesn't define __round__ method\n"
     ]
    },
    {
     "name": "stderr",
     "output_type": "stream",
     "text": [
      " 69%|██████▉   | 7629/11041 [00:43<00:19, 176.59it/s]"
     ]
    },
    {
     "name": "stdout",
     "output_type": "stream",
     "text": [
      "⚠️ Error: type NAType doesn't define __round__ method\n"
     ]
    },
    {
     "name": "stderr",
     "output_type": "stream",
     "text": [
      " 69%|██████▉   | 7672/11041 [00:43<00:20, 161.26it/s]"
     ]
    },
    {
     "name": "stdout",
     "output_type": "stream",
     "text": [
      "⚠️ Error: type NAType doesn't define __round__ method\n"
     ]
    },
    {
     "name": "stderr",
     "output_type": "stream",
     "text": [
      " 71%|███████   | 7853/11041 [00:44<00:19, 166.64it/s]"
     ]
    },
    {
     "name": "stdout",
     "output_type": "stream",
     "text": [
      "⚠️ Error: type NAType doesn't define __round__ method\n"
     ]
    },
    {
     "name": "stderr",
     "output_type": "stream",
     "text": [
      " 72%|███████▏  | 7929/11041 [00:45<00:16, 185.86it/s]"
     ]
    },
    {
     "name": "stdout",
     "output_type": "stream",
     "text": [
      "⚠️ Error: type NAType doesn't define __round__ method\n"
     ]
    },
    {
     "name": "stderr",
     "output_type": "stream",
     "text": [
      " 73%|███████▎  | 8061/11041 [00:46<00:18, 158.88it/s]"
     ]
    },
    {
     "name": "stdout",
     "output_type": "stream",
     "text": [
      "⚠️ Error: type NAType doesn't define __round__ method\n"
     ]
    },
    {
     "name": "stderr",
     "output_type": "stream",
     "text": [
      " 73%|███████▎  | 8101/11041 [00:46<00:17, 165.61it/s]"
     ]
    },
    {
     "name": "stdout",
     "output_type": "stream",
     "text": [
      "⚠️ Error: type NAType doesn't define __round__ method\n"
     ]
    },
    {
     "name": "stderr",
     "output_type": "stream",
     "text": [
      " 75%|███████▍  | 8233/11041 [00:47<00:16, 171.17it/s]"
     ]
    },
    {
     "name": "stdout",
     "output_type": "stream",
     "text": [
      "⚠️ Error: type NAType doesn't define __round__ method\n"
     ]
    },
    {
     "name": "stderr",
     "output_type": "stream",
     "text": [
      " 75%|███████▌  | 8329/11041 [00:47<00:15, 173.75it/s]"
     ]
    },
    {
     "name": "stdout",
     "output_type": "stream",
     "text": [
      "⚠️ Error: type NAType doesn't define __round__ method\n"
     ]
    },
    {
     "name": "stderr",
     "output_type": "stream",
     "text": [
      " 77%|███████▋  | 8463/11041 [00:48<00:15, 161.65it/s]"
     ]
    },
    {
     "name": "stdout",
     "output_type": "stream",
     "text": [
      "⚠️ Error: type NAType doesn't define __round__ method\n"
     ]
    },
    {
     "name": "stderr",
     "output_type": "stream",
     "text": [
      " 78%|███████▊  | 8642/11041 [00:49<00:13, 182.61it/s]"
     ]
    },
    {
     "name": "stdout",
     "output_type": "stream",
     "text": [
      "⚠️ Error: type NAType doesn't define __round__ method\n"
     ]
    },
    {
     "name": "stderr",
     "output_type": "stream",
     "text": [
      " 80%|████████  | 8880/11041 [00:50<00:12, 174.30it/s]"
     ]
    },
    {
     "name": "stdout",
     "output_type": "stream",
     "text": [
      "⚠️ Error: type NAType doesn't define __round__ method\n"
     ]
    },
    {
     "name": "stderr",
     "output_type": "stream",
     "text": [
      " 82%|████████▏ | 9000/11041 [00:51<00:11, 182.14it/s]"
     ]
    },
    {
     "name": "stdout",
     "output_type": "stream",
     "text": [
      "⚠️ Error: type NAType doesn't define __round__ method\n"
     ]
    },
    {
     "name": "stderr",
     "output_type": "stream",
     "text": [
      "100%|██████████| 11041/11041 [01:03<00:00, 174.27it/s]\n"
     ]
    }
   ],
   "source": [
    "from pathlib import Path\n",
    "from meteostat import Daily, Point\n",
    "from tqdm import tqdm\n",
    "import datetime as dt\n",
    "import pandas as Pd\n",
    "import numpy as np\n",
    "import os\n",
    "\n",
    "# Automatically find project root (the one containing the 'data' folder)\n",
    "ROOT = Path.cwd()\n",
    "if not (ROOT / \"data\").exists():\n",
    "    ROOT = ROOT.parent\n",
    "os.chdir(ROOT)\n",
    "\n",
    "DATA_DIR = Path(\"data\")\n",
    "drivers_Path = DATA_DIR/\"drivers.csv\"\n",
    "Lap_Times_path = DATA_DIR/\"lap_times.csv\"\n",
    "races_Path = DATA_DIR/\"races.csv\"\n",
    "circuit_Path = DATA_DIR/\"circuits.csv\"\n",
    "qual_Path = DATA_DIR/\"qualifying.csv\"\n",
    "\n",
    "drivers = Pd.read_csv(drivers_Path)\n",
    "lap_times = Pd.read_csv(Lap_Times_path)\n",
    "races = Pd.read_csv(races_Path)\n",
    "circuits = Pd.read_csv(circuit_Path)\n",
    "qual = Pd.read_csv(qual_Path)\n",
    "\n",
    "drv = drivers.copy()\n",
    "drv[\"drivers_name\"] = drv[\"forename\"].str.strip() + \" \" + drv[\"surname\"].str.strip()\n",
    "\n",
    "best_laps = (\n",
    "    lap_times\n",
    "    .groupby([\"raceId\", \"driverId\"])[\"milliseconds\"]\n",
    "    .min()\n",
    "    .reset_index()\n",
    "    .rename(columns={\"milliseconds\":\"bestLap_ms\"})\n",
    ")\n",
    "\n",
    "best_laps[\"bestLaps_s\"] = best_laps[\"bestLap_ms\"]/1000.0\n",
    "best_laps_named = best_laps.merge(drv[[\"driverId\", \"drivers_name\"]], on=\"driverId\", how=\"left\")\n",
    "\n",
    "races_small = races[[\"raceId\", \"year\", \"round\", \"circuitId\", \"name\", \"date\"]].copy()\n",
    "races_small.rename(columns={\"name\": \"gp_name\"}, inplace=True)\n",
    "\n",
    "circuit_small = circuits[[\"circuitId\", \"name\", \"country\", \"lat\", \"lng\", \"alt\"]].copy()\n",
    "circuit_small.rename(columns={\"name\": \"circuit_name\"}, inplace=True)\n",
    "\n",
    "bl = best_laps_named.copy()\n",
    "bl_race = bl.merge(races_small, on=\"raceId\", how=\"left\")\n",
    "bl_full = bl_race.merge(circuit_small, on=\"circuitId\", how=\"left\")\n",
    "\n",
    "def time_str_to_seconds(x):\n",
    "    \"\"\"\n",
    "    Convert time strings like '1:12.345' to seconds (float).\n",
    "    Handles None/NaN/empty safely.\n",
    "    \"\"\"\n",
    "    if Pd.isna(x) or x == \"\":\n",
    "        return np.nan\n",
    "    s = str(x)\n",
    "    if \":\" in s:\n",
    "        m, rest = s.split(\":\")\n",
    "        return float(m) * 60.0 + float(rest)\n",
    "    # sometimes it's already seconds-like\n",
    "    try:\n",
    "        return float(s)\n",
    "    except Exception:\n",
    "        return np.nan\n",
    "\n",
    "# apply to each q-column\n",
    "for col in [\"q1\", \"q2\", \"q3\"]:\n",
    "    if col in qual.columns:\n",
    "        qual[col + \"_s\"] = qual[col].apply(time_str_to_seconds)\n",
    "\n",
    "# best of the available sessions (some drivers only set Q1 or Q2)\n",
    "q_time_cols = [c for c in [\"q1_s\",\"q2_s\",\"q3_s\"] if c in qual.columns]\n",
    "qual[\"qual_best_s\"] = qual[q_time_cols].min(axis=1, skipna=True)\n",
    "\n",
    "# keep only the fields we need\n",
    "qual_small = qual[[\"raceId\",\"driverId\",\"position\",\"qual_best_s\"]].copy()\n",
    "qual_small.rename(columns={\"position\":\"qual_pos\"}, inplace=True)\n",
    "\n",
    "# bl_full currently has: [raceId, driverId, bestLap_s, year, gp_name, circuit_name, country, lat, lng, ...]\n",
    "bl_q = bl_full.merge(qual_small, on=[\"raceId\",\"driverId\"], how=\"left\")\n",
    "\n",
    "def get_weather(lat, lng, date_str):\n",
    "    \"\"\"\n",
    "    Fetch weather for given location (lat, lng) and race date.\n",
    "    Returns a dict with average temperature, rain, wind speed, and pressure.\n",
    "    \"\"\"\n",
    "    try:\n",
    "        date = Pd.to_datetime(date_str)\n",
    "        start = date - dt.timedelta(days=1)  # buffer (previous day)\n",
    "        end = date + dt.timedelta(days=1)\n",
    "        location = Point(lat, lng)\n",
    "        data = Daily(location, start, end)\n",
    "        df = data.fetch()\n",
    "        if df.empty:\n",
    "            return {\"temp_c\": None, \"rain_mm\": None, \"wind_mps\": None, \"pressure_hpa\": None}\n",
    "        # Take mean of these 3 days for smoother approximation\n",
    "        return {\n",
    "            \"temp_c\": round(df[\"tavg\"].mean(), 2) if \"tavg\" in df else None,\n",
    "            \"rain_mm\": round(df[\"prcp\"].sum(), 2) if \"prcp\" in df else None,\n",
    "            \"wind_mps\": round(df[\"wspd\"].mean(), 2) if \"wspd\" in df else None,\n",
    "            \"pressure_hpa\": round(df[\"pres\"].mean(), 2) if \"pres\" in df else None,\n",
    "        }\n",
    "    except Exception as e:\n",
    "        print(\"⚠️ Error:\", e)\n",
    "        return {\"temp_c\": None, \"rain_mm\": None, \"wind_mps\": None, \"pressure_hpa\": None}\n",
    "\n",
    "weather_cache = {}\n",
    "weather_records = []\n",
    "\n",
    "for _, row in tqdm(bl_q.iterrows(), total=len(bl_q)):\n",
    "    race_id = row[\"raceId\"]\n",
    "    if race_id not in weather_cache:\n",
    "        w = get_weather(row[\"lat\"], row[\"lng\"], row[\"date\"])\n",
    "        weather_cache[race_id] = w\n",
    "    weather_records.append(weather_cache[race_id])\n",
    "\n",
    "weather_df = Pd.DataFrame(weather_records)\n",
    "bl_weather = Pd.concat([bl_q.reset_index(drop=True), weather_df], axis=1)\n",
    "\n",
    "bl_weather.to_csv(\"outputs/f1_features_weather.csv\", index=False)\n"
   ]
  }
 ],
 "metadata": {
  "kernelspec": {
   "display_name": ".venv",
   "language": "python",
   "name": "python3"
  },
  "language_info": {
   "codemirror_mode": {
    "name": "ipython",
    "version": 3
   },
   "file_extension": ".py",
   "mimetype": "text/x-python",
   "name": "python",
   "nbconvert_exporter": "python",
   "pygments_lexer": "ipython3",
   "version": "3.12.0"
  }
 },
 "nbformat": 4,
 "nbformat_minor": 5
}
