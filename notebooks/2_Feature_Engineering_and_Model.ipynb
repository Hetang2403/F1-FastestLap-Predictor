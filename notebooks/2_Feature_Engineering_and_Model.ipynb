{
 "cells": [
  {
   "cell_type": "code",
   "execution_count": 8,
   "id": "aafa70b0",
   "metadata": {},
   "outputs": [
    {
     "name": "stdout",
     "output_type": "stream",
     "text": [
      "R²  : 0.661\n",
      "MAE : 3.322 s\n",
      "RMSE: 7.742 s\n"
     ]
    },
    {
     "data": {
      "text/plain": [
       "['models/f1_rf_baseline.joblib']"
      ]
     },
     "execution_count": 8,
     "metadata": {},
     "output_type": "execute_result"
    }
   ],
   "source": [
    "import pandas as pd, numpy as np\n",
    "from pathlib import Path\n",
    "from sklearn.model_selection import GroupShuffleSplit\n",
    "from sklearn.preprocessing import OneHotEncoder\n",
    "from sklearn.compose import ColumnTransformer\n",
    "from sklearn.pipeline import Pipeline\n",
    "from sklearn.ensemble import RandomForestRegressor\n",
    "from sklearn.metrics import r2_score, mean_absolute_error, mean_squared_error\n",
    "import joblib, os\n",
    "\n",
    "# ---------- Load ----------\n",
    "ROOT = Path.cwd()\n",
    "if not (ROOT / \"outputs\").exists():\n",
    "    ROOT = ROOT.parent\n",
    "os.chdir(ROOT)\n",
    "\n",
    "df = pd.read_csv(Path(\"outputs\") / \"f1_features_weather.csv\")\n",
    "\n",
    "# your CSV uses plural names; keep them consistent\n",
    "df = df.rename(columns={\"drivers_name\": \"driver_name\"})\n",
    "\n",
    "# ---------- Target & groups ----------\n",
    "y = df[\"bestLaps_s\"]                  # target in seconds\n",
    "groups = df[\"raceId\"] if \"raceId\" in df.columns else df[\"year\"]\n",
    "\n",
    "# ---------- Build features WITHOUT leaks ----------\n",
    "# NEVER allow target or its proxies into X\n",
    "leak_cols = {\"bestLaps_s\", \"bestLap_ms\", \"qual_best_s\"}\n",
    "text_cols = {\"driver_name\", \"gp_name\", \"circuit_name\", \"date\"}\n",
    "\n",
    "# KEEP raceId for grouping (exclude from features), drop it later\n",
    "feature_cols = [c for c in df.columns if c not in leak_cols | text_cols | {\"raceId\"}]\n",
    "\n",
    "# Impute numeric NaNs\n",
    "for c in df[feature_cols].select_dtypes(include=np.number).columns:\n",
    "    df[c] = df[c].fillna(df[c].median())\n",
    "\n",
    "# ---------- Grouped train/test split (unseen races in test) ----------\n",
    "gss = GroupShuffleSplit(n_splits=1, test_size=0.2, random_state=42)\n",
    "train_idx, test_idx = next(gss.split(df[feature_cols], y, groups=groups))\n",
    "\n",
    "X_train = df.loc[train_idx, feature_cols].copy()\n",
    "X_test  = df.loc[test_idx,  feature_cols].copy()\n",
    "y_train = y.iloc[train_idx]\n",
    "y_test  = y.iloc[test_idx]\n",
    "\n",
    "# ---------- Preprocess (infer from X_train) ----------\n",
    "cat_cols = [c for c in [\"country\", \"year\"] if c in X_train.columns]\n",
    "num_cols = [c for c in X_train.columns if c not in cat_cols]\n",
    "\n",
    "preprocess = ColumnTransformer(\n",
    "    transformers=[\n",
    "        (\"cat\", OneHotEncoder(handle_unknown=\"ignore\"), cat_cols),\n",
    "        (\"num\", \"passthrough\", num_cols),\n",
    "    ]\n",
    ")\n",
    "\n",
    "model = Pipeline([\n",
    "    (\"pre\", preprocess),\n",
    "    (\"rf\", RandomForestRegressor(n_estimators=300, random_state=42, n_jobs=-1)),\n",
    "])\n",
    "\n",
    "# Safety: ensure no leaks in features\n",
    "for bad in (\"bestLaps_s\", \"bestLap_ms\", \"qual_best_s\"):\n",
    "    assert bad not in X_train.columns, f\"Leak in features: {bad}\"\n",
    "\n",
    "# ---------- Fit & evaluate ----------\n",
    "model.fit(X_train, y_train)\n",
    "y_pred = model.predict(X_test)\n",
    "\n",
    "rmse = float(np.sqrt(mean_squared_error(y_test, y_pred)))\n",
    "print(\"R²  :\", round(r2_score(y_test, y_pred), 3))\n",
    "print(\"MAE :\", round(mean_absolute_error(y_test, y_pred), 3), \"s\")\n",
    "print(\"RMSE:\", round(rmse, 3), \"s\")\n",
    "\n",
    "Path(\"models\").mkdir(exist_ok=True)\n",
    "joblib.dump(model, \"models/f1_rf_baseline.joblib\")\n"
   ]
  }
 ],
 "metadata": {
  "kernelspec": {
   "display_name": ".venv",
   "language": "python",
   "name": "python3"
  },
  "language_info": {
   "codemirror_mode": {
    "name": "ipython",
    "version": 3
   },
   "file_extension": ".py",
   "mimetype": "text/x-python",
   "name": "python",
   "nbconvert_exporter": "python",
   "pygments_lexer": "ipython3",
   "version": "3.12.0"
  }
 },
 "nbformat": 4,
 "nbformat_minor": 5
}
